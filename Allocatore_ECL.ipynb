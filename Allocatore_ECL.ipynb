{
 "cells": [
  {
   "cell_type": "markdown",
   "id": "aece87fc-795c-4e48-a9e9-49c85ed048a2",
   "metadata": {},
   "source": [
    "# ALLOCATORE ECL (rcp_allocatore_ecl)"
   ]
  },
  {
   "cell_type": "markdown",
   "id": "55302aad-d51f-47a4-a35d-c3178f1cb62c",
   "metadata": {},
   "source": [
    "### 1. Scopo e Ambito "
   ]
  },
  {
   "cell_type": "markdown",
   "id": "116d614f-fab8-4064-9fcc-7e971fd64d41",
   "metadata": {},
   "source": [
    "Il processo si inserisce all'interno del processo di calcolo di proiezione IFRS9 e si occupa di riallocare le misure di rischio calcolate nel motore di proiezione ECL sulle tranche di dettaglio. Infatti, il calcolo eseguito su cluster di rischio omogenei all'interno delle proiezioni ECL, se da una parte permette di ridurre il carico computazionale ( particolarmente rilevante considerata la dimensione del portafoglio e la metodologia di applicazione delle matrici di transizione), dall'altra rende indisponibile una serie di dimensioni e di informazioni di reportistica di dettaglio che potrebbero essere necessarie ai fini di un'analisi su particolari segmenti del portafoglio.\n",
    "Di eseguito riportiamo lo schema dei motori di Proiezioni IFRS9 all'interno del quale l'allocatore ECL si va a inserire.\n",
    "Per una descrizione degli altri componenti si rimanda alla specifica documentazione."
   ]
  },
  {
   "cell_type": "markdown",
   "id": "56b6269e-9afa-4240-b53f-2c1ee9797c7c",
   "metadata": {},
   "source": [
    "![Proiezioni IFRS9](asset/ifrs9.png \"Proiezioni IFRS9\")"
   ]
  },
  {
   "cell_type": "markdown",
   "id": "a73770c2-b959-45bb-a7cb-c03af03125c3",
   "metadata": {},
   "source": [
    "### 2. Input e Fonti Alimentanti"
   ]
  },
  {
   "cell_type": "code",
   "execution_count": 26,
   "id": "2e423c36-d790-4144-b5b1-9733881880fb",
   "metadata": {},
   "outputs": [
    {
     "name": "stdout",
     "output_type": "stream",
     "text": [
      "ciao\n"
     ]
    }
   ],
   "source": []
  },
  {
   "cell_type": "code",
   "execution_count": null,
   "id": "3ed29522-6bbb-4dec-a8e0-cebcef9502c9",
   "metadata": {},
   "outputs": [],
   "source": []
  },
  {
   "cell_type": "markdown",
   "id": "fe41a20b-7717-48f1-a105-7a5fe433eccb",
   "metadata": {},
   "source": [
    "### 3. Background e Technicalities"
   ]
  },
  {
   "cell_type": "markdown",
   "id": "ec8c7e11-5f92-49db-869a-15d73b6e34b9",
   "metadata": {},
   "source": [
    "Poichè l'applicativo prevede il processamento di un numero elevato di dati che rendono difficile l'implementazione attraverso tecniche \"standard\" di programmazione, si è previsto l'utilizzo di una tecnologia presente all'interno della Google Cloud Platform ovvero Apache Spark ( eseguito su un servizio Google chiamato Dataproc).\n",
    "Spark è una piattaforma per il calcolo distribuito ad elevata scalabilità che permette di suddividere i dati e i calcoli su molti  cluster ognuno dei quali contiene dei nodi rendendo molto semplice il processimento di dataset molto grandi, perchè ogni nodo (assimibilabile a un'unità computazionale) si limita a processare una piccola parte del database.\n"
   ]
  },
  {
   "cell_type": "code",
   "execution_count": 1,
   "id": "3a663ef8-2e3c-445b-bc09-2a51fab994fe",
   "metadata": {},
   "outputs": [],
   "source": [
    "from pyspark.sql.session import SparkSession\n",
    "from pyspark.sql.session import SparkSession\n",
    "from pyspark.sql import dataframe\n",
    "from pyspark.sql.functions import first, col, when, lit, coalesce, broadcast, format_string, round\n",
    "from time import time\n",
    "import ipywidgets as widgets\n",
    "from IPython.display import display\n",
    "layout = widgets.Layout( height='40px', width = '300px') #set width and height"
   ]
  },
  {
   "cell_type": "code",
   "execution_count": 2,
   "id": "e225bfbc-d308-4611-a5d0-3d3ea980245a",
   "metadata": {},
   "outputs": [
    {
     "name": "stderr",
     "output_type": "stream",
     "text": [
      "Setting default log level to \"WARN\".\n",
      "To adjust logging level use sc.setLogLevel(newLevel). For SparkR, use setLogLevel(newLevel).\n"
     ]
    }
   ],
   "source": [
    "\n",
    "\n",
    "# Spark session import and initialization\n",
    " #   .config('spark.jars', 'gs://spark-lib/bigquery/spark-bigquery-with-dependencies_2.12-0.22.2.jar')\\\n",
    "  #  .config('spark.submit.pyFiles', 'gs://bkt-isp-ddl00-appl-svil-001/spark-bigquery-support-0.30.1.zip')\\\n",
    "#.config('spark.jars', 'gs://spark-lib/bigquery/spark-bigquery-latest_2.12.jar') \n",
    "spark = SparkSession.builder \\\n",
    "    .appName('ECL Bonis') \\\n",
    "    .config('spark.jars', 'gs://spark-lib/bigquery/spark-bigquery-latest_2.12.jar')\\\n",
    "    .getOrCreate()\n",
    "\n",
    "spark.conf.set(\"viewsEnabled\", \"true\")\n",
    "spark.conf.set(\"materializationDataset\", \"PocECLDataset\")\n",
    "spark.conf.set(\"materializationDataset\", \"ds_proiezione_credito\")\n",
    "spark.conf.set(\"materializationDataset\", \"ds_proiezioni_ecl_bonis_staging\")"
   ]
  },
  {
   "cell_type": "markdown",
   "id": "d6badd4c-1c90-4c99-9adc-e7a5c913b629",
   "metadata": {},
   "source": [
    "Il primo passo prevede quindi l'importazione delle librerie pyspark (l'interfaccia Python per l'utilizzo di Spark) e l'inizializzazione di una sessione Spark che permette di accedere ai servizi di calcolo distribuito."
   ]
  },
  {
   "cell_type": "markdown",
   "id": "6359d548-cb26-4825-956a-462972b106c6",
   "metadata": {},
   "source": [
    "### 4. Setting e Parametri di Calcolo"
   ]
  },
  {
   "cell_type": "markdown",
   "id": "ce66eb4f-ea75-4d98-b690-c487989a92d3",
   "metadata": {},
   "source": [
    "Di seguito l'inizializzazione dei parametri di setting (progetto, dataset, tabelle) necessari al calcolo, che nel processo in produzione saranno inseriti in specifico file di configurazione"
   ]
  },
  {
   "cell_type": "code",
   "execution_count": 3,
   "id": "34125b6b-c28a-4e5c-b78b-d3ca94a57d27",
   "metadata": {},
   "outputs": [],
   "source": [
    "# Settaggio dei parametri relativi al progetto Cloud e ai Dataset Bigquery\n",
    "project_id = \"prj-isp-ddl00-appl-svil-001\"\n",
    "dataset = \"ds_proiezione_credito\"\n",
    "dataset_feeding = \"ds_feeding_proiezione_credito\"\n",
    "dataset_staging = \"ds_proiezioni_ecl_bonis_staging\"\n",
    "dataset_ecl =\"PocECLDataset\"\n",
    "dataset_staging2 = \"ds_proiezioni_sas\""
   ]
  },
  {
   "cell_type": "code",
   "execution_count": 4,
   "id": "3411d3ae-4b6d-4139-9eeb-657ca6046f91",
   "metadata": {},
   "outputs": [],
   "source": [
    "# nome tabelle di input\n",
    "ifrs9_join_rwa = \"TE_BDRI0_IFRS9_JOIN_RWA_MIPBRM\"\n",
    "etl_mip_brm = \"TE_BDRI0_ETL_MIP_BRM_RRM\"\n",
    "ecl_out = \"TE_IFRS9_PRO_ECL_OUT\"\n",
    "ecl_out_mig = \"TE_IFRS9_PRO_ECL_OUT_MIG\"\n",
    "ecl_scarti  = \"TE_IFRS9_PRO_ECL_SCARTI\"\n",
    "info_addizionali_t = \"TE_IFRS9_INFO_ADDIZIONALI\""
   ]
  },
  {
   "cell_type": "markdown",
   "id": "06c3d7c3-f598-4c40-a816-61db9fca949c",
   "metadata": {},
   "source": [
    "Di seguito i parametri di lancio del motore, tali parametri saranno inputati dall'utente tramite interfaccia grafica messa a disposizione."
   ]
  },
  {
   "cell_type": "code",
   "execution_count": 5,
   "id": "1ac54c40-d915-4136-b1df-89e741d65e8e",
   "metadata": {},
   "outputs": [
    {
     "data": {
      "application/vnd.jupyter.widget-view+json": {
       "model_id": "737518c3d8f3487f9d9f27baf7502eaf",
       "version_major": 2,
       "version_minor": 0
      },
      "text/plain": [
       "HTML(value='<b>Selezione versioni da interfaccia:</b>')"
      ]
     },
     "metadata": {},
     "output_type": "display_data"
    },
    {
     "data": {
      "application/vnd.jupyter.widget-view+json": {
       "model_id": "f3201f51d3ab440a9e5abc1abced29b0",
       "version_major": 2,
       "version_minor": 0
      },
      "text/plain": [
       "IntText(value=2, description='etl_mip_brm_version:', layout=Layout(height='40px', width='300px'), style=Descri…"
      ]
     },
     "metadata": {},
     "output_type": "display_data"
    },
    {
     "data": {
      "application/vnd.jupyter.widget-view+json": {
       "model_id": "7d900853b9e54b529629d9aa4770298e",
       "version_major": 2,
       "version_minor": 0
      },
      "text/plain": [
       "IntText(value=26, description='ecl_out_version:', layout=Layout(height='40px', width='300px'), style=Descripti…"
      ]
     },
     "metadata": {},
     "output_type": "display_data"
    },
    {
     "data": {
      "application/vnd.jupyter.widget-view+json": {
       "model_id": "f2474a18dfa04f119474055ecf07c6ca",
       "version_major": 2,
       "version_minor": 0
      },
      "text/plain": [
       "IntText(value=0, description='info_addizionali_version', layout=Layout(height='40px', width='300px'), style=De…"
      ]
     },
     "metadata": {},
     "output_type": "display_data"
    },
    {
     "data": {
      "application/vnd.jupyter.widget-view+json": {
       "model_id": "ef9d8425c5914740a2bac9e128e2791e",
       "version_major": 2,
       "version_minor": 0
      },
      "text/plain": [
       "IntText(value=3, description='anni_proiez:', layout=Layout(height='40px', width='300px'), style=DescriptionSty…"
      ]
     },
     "metadata": {},
     "output_type": "display_data"
    }
   ],
   "source": [
    "#Crea l'interfaccia per l'acquisizione delle versioni e dei parametri\n",
    "\n",
    "def create_int_widget(description, default_value):\n",
    "    w = widgets.IntText(\n",
    "    value= default_value,\n",
    "    description=description,\n",
    "    disabled=False,\n",
    "    align_items='stretch', \n",
    "    style = {'description_width': 'initial'},\n",
    "    layout = layout)\n",
    "    return w\n",
    "\n",
    "title_w = widgets.HTML(value = \"<b>Selezione versioni da interfaccia:</b>\")\n",
    "etl_mip_brm_w = create_int_widget('etl_mip_brm_version:', 2)\n",
    "ecl_out_w = create_int_widget('ecl_out_version:', 26)\n",
    "info_addizionali_w = create_int_widget('info_addizionali_version', 0)\n",
    "anni_proiez_w = create_int_widget('anni_proiez:', 3)\n",
    "display(title_w)\n",
    "display(etl_mip_brm_w)\n",
    "display(ecl_out_w)\n",
    "display(info_addizionali_w)\n",
    "display(anni_proiez_w)"
   ]
  },
  {
   "cell_type": "code",
   "execution_count": 6,
   "id": "972da74a-a3c6-4248-8586-b80814fe9f5a",
   "metadata": {},
   "outputs": [],
   "source": [
    "#legge parametri interfaccia\n",
    "etl_mip_brm_version = etl_mip_brm_w.value\n",
    "ecl_out_version = ecl_out_w.value\n",
    "info_addizionali_version = info_addizionali_w.value\n",
    "anni_proiez = anni_proiez_w.value"
   ]
  },
  {
   "cell_type": "markdown",
   "id": "0c7f3248-f73c-436a-9201-5219c5b6e15e",
   "metadata": {},
   "source": [
    "A fini di sviluppo sono stati utilizzati dati reali relativi a settembre 2021, il primo passaggio di calcolo prevederà dunque il filtro delle versioni alla data di riferimento, nonchè la gestione di valori NULL che potrebbero creare dei problemi all'interno dei processi di calcolo. La gestione dei NULL non è prevista all'interno del notebook, ma è implementata nel codice"
   ]
  },
  {
   "cell_type": "code",
   "execution_count": 7,
   "id": "0de75245-9ea3-47d7-ab35-553430237572",
   "metadata": {},
   "outputs": [],
   "source": [
    "CHIAVE_INFO_ADDIZIONALI = \"Tranche\"\n",
    "INFO_ADDIZIONALI = 1"
   ]
  },
  {
   "cell_type": "code",
   "execution_count": 8,
   "id": "d0504e9c-b4b3-4759-a839-027d8ed00ab1",
   "metadata": {},
   "outputs": [
    {
     "name": "stdout",
     "output_type": "stream",
     "text": [
      "select * from `prj-isp-ddl00-appl-svil-001.ds_feeding_proiezione_credito.TE_BDRI0_ETL_MIP_BRM_RRM` where ID_VERSIONE = 2\n"
     ]
    },
    {
     "name": "stderr",
     "output_type": "stream",
     "text": [
      "                                                                                \r"
     ]
    },
    {
     "data": {
      "text/plain": [
       "11450960"
      ]
     },
     "execution_count": 8,
     "metadata": {},
     "output_type": "execute_result"
    }
   ],
   "source": [
    "#download tabella etl_mip_brm\n",
    "q = f\"select * from `{project_id}.{dataset_feeding}.{etl_mip_brm}` where ID_VERSIONE = {etl_mip_brm_version}\"\n",
    "print(q)\n",
    "df_etl_mip_brm = spark.read.format(\"bigquery\").load(q)\n",
    "df_etl_mip_brm.count()"
   ]
  },
  {
   "cell_type": "code",
   "execution_count": 9,
   "id": "59032b80-99c4-4c9b-8ac8-103e9a9c21b2",
   "metadata": {},
   "outputs": [
    {
     "name": "stdout",
     "output_type": "stream",
     "text": [
      "select * from `prj-isp-ddl00-appl-svil-001.ds_feeding_proiezione_credito.TE_BDRI0_IFRS9_JOIN_RWA_MIPBRM` where ID_VERSIONE = 2\n"
     ]
    },
    {
     "data": {
      "text/plain": [
       "11450960"
      ]
     },
     "execution_count": 9,
     "metadata": {},
     "output_type": "execute_result"
    }
   ],
   "source": [
    "#download_tabella join_rwa\n",
    "q = f\"select * from `{project_id}.{dataset_feeding}.{ifrs9_join_rwa}` where ID_VERSIONE = {etl_mip_brm_version}\"\n",
    "print(q)\n",
    "df_join_rwa = spark.read.format(\"bigquery\").load(q)\n",
    "df_join_rwa.count()"
   ]
  },
  {
   "cell_type": "code",
   "execution_count": 10,
   "id": "f7e692ca-5942-4155-a708-3a6cd869c3d3",
   "metadata": {},
   "outputs": [
    {
     "data": {
      "text/plain": [
       "1752484"
      ]
     },
     "execution_count": 10,
     "metadata": {},
     "output_type": "execute_result"
    }
   ],
   "source": [
    "#download ECL_OUT\n",
    "q = f\"select * from `{project_id}.{dataset}.{ecl_out}` where ID_VERSIONE = {ecl_out_version}\"\n",
    "\n",
    "df_ecl_out = spark.read.format(\"bigquery\").load(q)\n",
    "df_ecl_out.count()"
   ]
  },
  {
   "cell_type": "code",
   "execution_count": 11,
   "id": "458eb2f2-4d0e-4212-8105-12ad521a5573",
   "metadata": {},
   "outputs": [
    {
     "data": {
      "text/plain": [
       "1752484"
      ]
     },
     "execution_count": 11,
     "metadata": {},
     "output_type": "execute_result"
    }
   ],
   "source": [
    "#download ECL_OUT_MIG\n",
    "q = f\"select * from `{project_id}.{dataset}.{ecl_out_mig}` where ID_VERSIONE = {ecl_out_version}\"\n",
    "\n",
    "df_ecl_out_mig = spark.read.format(\"bigquery\").load(q)\n",
    "df_ecl_out_mig.count()"
   ]
  },
  {
   "cell_type": "code",
   "execution_count": 12,
   "id": "78b6b67b-32bc-43d7-9277-a4025a3f5324",
   "metadata": {},
   "outputs": [
    {
     "data": {
      "text/plain": [
       "505"
      ]
     },
     "execution_count": 12,
     "metadata": {},
     "output_type": "execute_result"
    }
   ],
   "source": [
    "#download ECL_SCARTI\n",
    "q = f\"select * from `{project_id}.{dataset}.{ecl_scarti}` where ID_VERSIONE = {ecl_out_version}\"\n",
    "df_ecl_scarti = spark.read.format(\"bigquery\").load(q)\n",
    "df_ecl_scarti.count()\n",
    "# numero righe database"
   ]
  },
  {
   "cell_type": "code",
   "execution_count": 13,
   "id": "511e10a1-4d14-4685-b6ee-b520b10a574d",
   "metadata": {
    "tags": []
   },
   "outputs": [],
   "source": [
    "#download INFO_ADDIZIONALI\n",
    "if INFO_ADDIZIONALI == 1:\n",
    "    q = f\"select * from `{project_id}.{dataset}.{info_addizionali_t}`\"\n",
    "    df_info_addizionali = spark.read.format(\"bigquery\").load(q)\n",
    "    df_info_addizionali.count()\n",
    "    # numero righe database"
   ]
  },
  {
   "cell_type": "markdown",
   "id": "f61e09f0-be28-4dde-93f0-9ba7b7d75608",
   "metadata": {},
   "source": [
    "### 5 Processo di Calcolo"
   ]
  },
  {
   "cell_type": "markdown",
   "id": "6a05ed03-fe22-4a03-b0c3-4e8fda509fc0",
   "metadata": {},
   "source": [
    "##### 5.1 Aggancio del campo COD_ROW_ID_MIP"
   ]
  },
  {
   "cell_type": "markdown",
   "id": "d50e3a6b-8698-4386-9856-b46bb4b7b02a",
   "metadata": {},
   "source": [
    "TE_BDRI0_ETL_MIP_BRM_RRM è la tabella di partenza che costituisce il database dei motori a consuntivo e che contiene tutte le informazioni rilevanti, output dell'ETL IFRS9.\n",
    "Questa tabella contiene le tranche di dettaglio (con chiave EXP_ID per il rapporto e COD_CRM per la garanzia); per poter raccordare le informazioni proiettate dal motore di proiezione ECL è dunque necessario recuperare l'identificativo del cluster su cui questo motore opera (COD_ROW_ID_MIP).\n",
    "La tabella TE_BDRI0_IFRS9_JOIN_RWA_MIP_BRM contiene la mappatura delle chiavi (COD_EXP,COD_CRM) e COD_ROW_ID_MIP.\n"
   ]
  },
  {
   "cell_type": "code",
   "execution_count": 27,
   "id": "a0f8e001-7b39-4356-b819-b23365976232",
   "metadata": {},
   "outputs": [
    {
     "ename": "AnalysisException",
     "evalue": "Column COD_EXP#774, COD_CRM#775 are ambiguous. It's probably because you joined several Datasets together, and some of these Datasets are the same. This column points to one of the Datasets but Spark is unable to figure out which one. Please alias the Datasets with different names via `Dataset.as` before joining them, and specify the column using qualified name, e.g. `df.as(\"a\").join(df.as(\"b\"), $\"a.id\" > $\"b.id\")`. You can also set spark.sql.analyzer.failAmbiguousSelfJoin to false to disable this check.",
     "output_type": "error",
     "traceback": [
      "\u001b[0;31m---------------------------------------------------------------------------\u001b[0m",
      "\u001b[0;31mAnalysisException\u001b[0m                         Traceback (most recent call last)",
      "\u001b[0;32m/tmp/ipykernel_2521/961202842.py\u001b[0m in \u001b[0;36m<module>\u001b[0;34m\u001b[0m\n\u001b[1;32m      1\u001b[0m \u001b[0mstart\u001b[0m\u001b[0;34m=\u001b[0m\u001b[0mtime\u001b[0m\u001b[0;34m(\u001b[0m\u001b[0;34m)\u001b[0m\u001b[0;34m\u001b[0m\u001b[0;34m\u001b[0m\u001b[0m\n\u001b[1;32m      2\u001b[0m \u001b[0;31m#aggancio campo COD_ROW_ID_MIP\u001b[0m\u001b[0;34m\u001b[0m\u001b[0;34m\u001b[0m\u001b[0;34m\u001b[0m\u001b[0m\n\u001b[0;32m----> 3\u001b[0;31m \u001b[0mdf_etl_mip_brm\u001b[0m \u001b[0;34m=\u001b[0m \u001b[0mdf_etl_mip_brm\u001b[0m\u001b[0;34m.\u001b[0m\u001b[0malias\u001b[0m\u001b[0;34m(\u001b[0m\u001b[0;34m\"a\"\u001b[0m\u001b[0;34m)\u001b[0m\u001b[0;34m.\u001b[0m\u001b[0mjoin\u001b[0m\u001b[0;34m(\u001b[0m\u001b[0mdf_join_rwa\u001b[0m\u001b[0;34m,\u001b[0m \u001b[0;34m[\u001b[0m\u001b[0mdf_etl_mip_brm\u001b[0m\u001b[0;34m.\u001b[0m\u001b[0mCOD_EXP\u001b[0m \u001b[0;34m==\u001b[0m \u001b[0mdf_join_rwa\u001b[0m\u001b[0;34m.\u001b[0m\u001b[0mCOD_EXP\u001b[0m\u001b[0;34m,\u001b[0m \u001b[0mdf_etl_mip_brm\u001b[0m\u001b[0;34m.\u001b[0m\u001b[0mCOD_CRM\u001b[0m \u001b[0;34m==\u001b[0m \u001b[0mdf_join_rwa\u001b[0m\u001b[0;34m.\u001b[0m\u001b[0mCOD_CRM\u001b[0m\u001b[0;34m]\u001b[0m\u001b[0;34m,\u001b[0m \u001b[0;34m'left'\u001b[0m\u001b[0;34m)\u001b[0m\u001b[0;31m\\\u001b[0m\u001b[0;34m\u001b[0m\u001b[0;34m\u001b[0m\u001b[0m\n\u001b[0m\u001b[1;32m      4\u001b[0m \u001b[0;34m.\u001b[0m\u001b[0mselect\u001b[0m\u001b[0;34m(\u001b[0m\u001b[0;34m\"a.*\"\u001b[0m\u001b[0;34m,\u001b[0m \u001b[0mdf_join_rwa\u001b[0m\u001b[0;34m.\u001b[0m\u001b[0mCOD_ROW_ID_MIP\u001b[0m\u001b[0;34m)\u001b[0m\u001b[0;34m\u001b[0m\u001b[0;34m\u001b[0m\u001b[0m\n\u001b[1;32m      5\u001b[0m \u001b[0;31m#uncomment to see results\u001b[0m\u001b[0;34m\u001b[0m\u001b[0;34m\u001b[0m\u001b[0;34m\u001b[0m\u001b[0m\n",
      "\u001b[0;32m/usr/lib/spark/python/pyspark/sql/dataframe.py\u001b[0m in \u001b[0;36mjoin\u001b[0;34m(self, other, on, how)\u001b[0m\n\u001b[1;32m   1337\u001b[0m                 \u001b[0mon\u001b[0m \u001b[0;34m=\u001b[0m \u001b[0mself\u001b[0m\u001b[0;34m.\u001b[0m\u001b[0m_jseq\u001b[0m\u001b[0;34m(\u001b[0m\u001b[0;34m[\u001b[0m\u001b[0;34m]\u001b[0m\u001b[0;34m)\u001b[0m\u001b[0;34m\u001b[0m\u001b[0;34m\u001b[0m\u001b[0m\n\u001b[1;32m   1338\u001b[0m             \u001b[0;32massert\u001b[0m \u001b[0misinstance\u001b[0m\u001b[0;34m(\u001b[0m\u001b[0mhow\u001b[0m\u001b[0;34m,\u001b[0m \u001b[0mstr\u001b[0m\u001b[0;34m)\u001b[0m\u001b[0;34m,\u001b[0m \u001b[0;34m\"how should be a string\"\u001b[0m\u001b[0;34m\u001b[0m\u001b[0;34m\u001b[0m\u001b[0m\n\u001b[0;32m-> 1339\u001b[0;31m             \u001b[0mjdf\u001b[0m \u001b[0;34m=\u001b[0m \u001b[0mself\u001b[0m\u001b[0;34m.\u001b[0m\u001b[0m_jdf\u001b[0m\u001b[0;34m.\u001b[0m\u001b[0mjoin\u001b[0m\u001b[0;34m(\u001b[0m\u001b[0mother\u001b[0m\u001b[0;34m.\u001b[0m\u001b[0m_jdf\u001b[0m\u001b[0;34m,\u001b[0m \u001b[0mon\u001b[0m\u001b[0;34m,\u001b[0m \u001b[0mhow\u001b[0m\u001b[0;34m)\u001b[0m\u001b[0;34m\u001b[0m\u001b[0;34m\u001b[0m\u001b[0m\n\u001b[0m\u001b[1;32m   1340\u001b[0m         \u001b[0;32mreturn\u001b[0m \u001b[0mDataFrame\u001b[0m\u001b[0;34m(\u001b[0m\u001b[0mjdf\u001b[0m\u001b[0;34m,\u001b[0m \u001b[0mself\u001b[0m\u001b[0;34m.\u001b[0m\u001b[0msql_ctx\u001b[0m\u001b[0;34m)\u001b[0m\u001b[0;34m\u001b[0m\u001b[0;34m\u001b[0m\u001b[0m\n\u001b[1;32m   1341\u001b[0m \u001b[0;34m\u001b[0m\u001b[0m\n",
      "\u001b[0;32m/opt/conda/miniconda3/lib/python3.8/site-packages/py4j/java_gateway.py\u001b[0m in \u001b[0;36m__call__\u001b[0;34m(self, *args)\u001b[0m\n\u001b[1;32m   1302\u001b[0m \u001b[0;34m\u001b[0m\u001b[0m\n\u001b[1;32m   1303\u001b[0m         \u001b[0manswer\u001b[0m \u001b[0;34m=\u001b[0m \u001b[0mself\u001b[0m\u001b[0;34m.\u001b[0m\u001b[0mgateway_client\u001b[0m\u001b[0;34m.\u001b[0m\u001b[0msend_command\u001b[0m\u001b[0;34m(\u001b[0m\u001b[0mcommand\u001b[0m\u001b[0;34m)\u001b[0m\u001b[0;34m\u001b[0m\u001b[0;34m\u001b[0m\u001b[0m\n\u001b[0;32m-> 1304\u001b[0;31m         return_value = get_return_value(\n\u001b[0m\u001b[1;32m   1305\u001b[0m             answer, self.gateway_client, self.target_id, self.name)\n\u001b[1;32m   1306\u001b[0m \u001b[0;34m\u001b[0m\u001b[0m\n",
      "\u001b[0;32m/usr/lib/spark/python/pyspark/sql/utils.py\u001b[0m in \u001b[0;36mdeco\u001b[0;34m(*a, **kw)\u001b[0m\n\u001b[1;32m    115\u001b[0m                 \u001b[0;31m# Hide where the exception came from that shows a non-Pythonic\u001b[0m\u001b[0;34m\u001b[0m\u001b[0;34m\u001b[0m\u001b[0;34m\u001b[0m\u001b[0m\n\u001b[1;32m    116\u001b[0m                 \u001b[0;31m# JVM exception message.\u001b[0m\u001b[0;34m\u001b[0m\u001b[0;34m\u001b[0m\u001b[0;34m\u001b[0m\u001b[0m\n\u001b[0;32m--> 117\u001b[0;31m                 \u001b[0;32mraise\u001b[0m \u001b[0mconverted\u001b[0m \u001b[0;32mfrom\u001b[0m \u001b[0;32mNone\u001b[0m\u001b[0;34m\u001b[0m\u001b[0;34m\u001b[0m\u001b[0m\n\u001b[0m\u001b[1;32m    118\u001b[0m             \u001b[0;32melse\u001b[0m\u001b[0;34m:\u001b[0m\u001b[0;34m\u001b[0m\u001b[0;34m\u001b[0m\u001b[0m\n\u001b[1;32m    119\u001b[0m                 \u001b[0;32mraise\u001b[0m\u001b[0;34m\u001b[0m\u001b[0;34m\u001b[0m\u001b[0m\n",
      "\u001b[0;31mAnalysisException\u001b[0m: Column COD_EXP#774, COD_CRM#775 are ambiguous. It's probably because you joined several Datasets together, and some of these Datasets are the same. This column points to one of the Datasets but Spark is unable to figure out which one. Please alias the Datasets with different names via `Dataset.as` before joining them, and specify the column using qualified name, e.g. `df.as(\"a\").join(df.as(\"b\"), $\"a.id\" > $\"b.id\")`. You can also set spark.sql.analyzer.failAmbiguousSelfJoin to false to disable this check."
     ]
    }
   ],
   "source": [
    "start=time()\n",
    "#aggancio campo COD_ROW_ID_MIP\n",
    "df_etl_mip_brm = df_etl_mip_brm.alias(\"a\").join(df_join_rwa, [df_etl_mip_brm.COD_EXP == df_join_rwa.COD_EXP, df_etl_mip_brm.COD_CRM == df_join_rwa.COD_CRM], 'left')\\\n",
    ".select(\"a.*\", df_join_rwa.COD_ROW_ID_MIP)\n",
    "#uncomment to see results\n",
    "#print(df_etl_mip_brm.head())\n",
    "print(df_etl_mip_brm.count())\n",
    "end=time()\n",
    "elapsed = end-start\n",
    "print(f\"{elapsed} seconds\")\n",
    "elapsed_minutes = elapsed/60\n",
    "print(f\"{elapsed_minutes} minutes\")"
   ]
  },
  {
   "cell_type": "markdown",
   "id": "7fb5cb41-8372-4f2b-88e7-70bcd8e768c2",
   "metadata": {},
   "source": [
    "L'output precedente mostra la prima riga del database, come è possibile vedere ai campi dell'ETL_MIP_BRM_RRM è stato quindi aggiunto l'identificativo del cluster COD_ROW_ID_MIP"
   ]
  },
  {
   "cell_type": "markdown",
   "id": "135559eb-f40e-4d6c-ad73-df868e050cce",
   "metadata": {},
   "source": [
    "##### 5.2 Recupero del Campo EAD_TOT_CLUSTER"
   ]
  },
  {
   "cell_type": "markdown",
   "id": "3aae6f90-13bb-4a8f-ab22-4c6799abfec7",
   "metadata": {},
   "source": [
    "Per poter riallocare proporzionalmente all'EAD di ogni singola tranche l'ECL calcolata a livello di cluster si renderà necessario recuperare per ogni tranche l'EAD Totale del Cluster di Riferimento.\n",
    "Tale informazione viene recuperando utilizzando l'identificativo COD_ROW_ID_MIP."
   ]
  },
  {
   "cell_type": "code",
   "execution_count": 42,
   "id": "92635d3c-5c0c-4c59-b38f-f9fb8fca5560",
   "metadata": {},
   "outputs": [
    {
     "name": "stderr",
     "output_type": "stream",
     "text": [
      "[Stage 162:==================================================>    (12 + 1) / 13]\r"
     ]
    },
    {
     "name": "stdout",
     "output_type": "stream",
     "text": [
      "11450960\n",
      "18.792069673538208 seconds\n",
      "0.3132011612256368 minutes\n"
     ]
    },
    {
     "name": "stderr",
     "output_type": "stream",
     "text": [
      "                                                                                \r"
     ]
    }
   ],
   "source": [
    "start=time()\n",
    "#seleziono campo EAD ed accodo ead ECL_OUT ed ECL_SCARTI\n",
    "df_ead_mip=df_ecl_out.select(\"COD_ROW_ID_MIP\",col(\"VAL_EAD_PIT_T0\").alias(\"VAL_EAD_TOT_CLUSTER\"))\n",
    "df_ead_scarti=df_ecl_scarti.select(\"COD_ROW_ID_MIP\",col(\"VAL_EAD_PIT_T0\").alias(\"VAL_EAD_TOT_CLUSTER\"))\n",
    "df_ead = df_ead_mip.union(df_ead_scarti)\n",
    "#join tra etl_mip_brm e ecl_out, ecl_out prima della join seleziona i campi COD_ROW_ID_MIP e VAL_EAD_PIT_T0 (rinominato in VAL_EAD_TOT_CLUSTER)\n",
    "df_etl_mip_brm = df_etl_mip_brm.alias(\"a\").join(broadcast(df_ead),\\\n",
    "                                     df_etl_mip_brm.COD_ROW_ID_MIP == df_ead.COD_ROW_ID_MIP, 'left')\\\n",
    "                                    .select(\"a.*\", df_ead.VAL_EAD_TOT_CLUSTER)\n",
    "print(df_etl_mip_brm.count())\n",
    "end=time()\n",
    "elapsed = end-start\n",
    "print(f\"{elapsed} seconds\")\n",
    "elapsed_minutes = elapsed/60\n",
    "print(f\"{elapsed_minutes} minutes\")"
   ]
  },
  {
   "cell_type": "markdown",
   "id": "484a10d1-8f8f-4fc7-81b0-3bdc13916e1c",
   "metadata": {},
   "source": [
    "##### 5.3.1 ECL_SCARTI_OUT"
   ]
  },
  {
   "cell_type": "markdown",
   "id": "82e9174d-2213-4a17-91d5-8a044df06f8f",
   "metadata": {},
   "source": [
    "La tabella ECL_SCARTI contiene i record non proiettati dal processo di ECL. Questi record non vengono processati nel motore delle proiezioni ECL principalmente per due motivi:\n",
    "- contengono matrici OTHER\n",
    "- mancano delle informazioni di staging corrispondenti\n",
    "\n",
    "\n",
    "Prima di procedere alla riallocazione è dunque necessario uniformare il tracciato della ECL_SCARTI a quello dell'ECL_OUT e dell'ECL_OUT_MIG.\n",
    "Il ratio secondo cui si esegue questa operazione è riportare le metriche a consuntivo sugli anni successivi, lasciando fissi lo staging e gli importi.\n",
    "In particolare il database conterrà l'esposizione (EAD), l'ECL Lifetime, l'ECL 1Y, le probabilità di migrazione (PRB_MIGR), la PD PIT e Lifetime allocate in relazione allo staging. Inoltre il database conterrà i campi di ECL_FINALE, LGD indipendentemente dallo staging."
   ]
  },
  {
   "cell_type": "code",
   "execution_count": 43,
   "id": "01630b00-26f5-4473-9cd6-7cf564cc3045",
   "metadata": {},
   "outputs": [
    {
     "data": {
      "text/plain": [
       "Row(COD_ROW_ID_MIP='00000000000000000000000000291225', VAL_ECL_1Y_T0=5.6757643806, COD_STAGING_T0_MIP='1', VAL_ECL_LT_T0=5.6757643806, VAL_EAD_PIT_T0=424419.68, VAL_PD_PIT_1Y=8.6e-05, VAL_PD_LT_T0=None, VAL_LGD_PIT_T0=None, VAL_ECL_FINAL_T0_MIP=5.6757643806)"
      ]
     },
     "execution_count": 43,
     "metadata": {},
     "output_type": "execute_result"
    }
   ],
   "source": [
    "# selezione delle colonne effettivamente utilizzate\n",
    "cols_sel = [\"VAL_ECL_1Y_T0\", \"COD_STAGING_T0_MIP\",\"VAL_ECL_LT_T0\",\"VAL_EAD_PIT_T0\",\\\n",
    "            \"VAL_PD_PIT_1Y\",\"VAL_PD_LT_T0\",\"VAL_LGD_PIT_T0\",\"VAL_ECL_FINAL_T0_MIP\"]\n",
    "df_ecl_scarti_sel = df_ecl_scarti.select(\"COD_ROW_ID_MIP\",*cols_sel)\n",
    "df_ecl_scarti_sel.head()\n"
   ]
  },
  {
   "cell_type": "markdown",
   "id": "1de792b0-7a14-4ab0-91fd-8e8010e5f793",
   "metadata": {},
   "source": [
    "I campi SXS1 vengono popolati se lo staging di partenza (COD_STAGING_T0_MIP) è uguale a 1, I campi SXS2 vengono popolati se lo staging di partenza (COD_STAGING_T0_MIP) è uguale a 2, i campi SXS3 essendo il portafoglio interamente bonis sono sempre valorizzati a 0.\n",
    "Non essendoci migrazioni di staging, i campi PRB_MIGR sono sempre pari a 1 oppure 0, ovvero lo staging rimane fisso."
   ]
  },
  {
   "cell_type": "code",
   "execution_count": 44,
   "id": "adcec74f-9a50-47ff-9863-90f5175bcfe4",
   "metadata": {
    "tags": []
   },
   "outputs": [],
   "source": [
    "#funzione per calcolare i campi dell'ecl out\n",
    "#I campi SXS1 vengono popolati se COD_STAGING_T0_MIP = 1, i campi SXS2 vengono popolati se COD_STAGING_T0_MIP = 2\n",
    "#inseriamo i campi in un dizionario per evitare duplicazioni di codice\n",
    "\n",
    "\n",
    "def field_s1_s2(df,field_new, field_old, i, sy = None):\n",
    "    if sy is not None:\n",
    "        df = df.withColumn(f\"{field_new}{sy}_T{i}\",when(\n",
    "        col(\"COD_STAGING_T0_MIP\") == f\"{sy}\", col(f\"{field_old}\")).otherwise(0))\n",
    "    else:\n",
    "        df = df.withColumn(f\"{field_new}{i}\",col(f\"{field_old}\")) \n",
    "    return df\n",
    "\n",
    "#campi S1 e S2\n",
    "fields = {\n",
    "  \"VAL_ECL_1Y_G_SXS\": \"VAL_ECL_1Y_T0\",\n",
    "  \"VAL_ECL_LT_G_SXS\": \"VAL_ECL_LT_T0\",\n",
    "  \"VAL_EAD_PIT_G_SXS\": \"VAL_EAD_PIT_T0\",\n",
    "  \"VAL_PD_LT_G_SXS\": \"VAL_PD_LT_T0\",\n",
    "  \"VAL_PD_PIT_G_SXS\": \"VAL_PD_PIT_1Y\"\n",
    "    \n",
    "}\n",
    "\n",
    "for t in range(anni_proiez+1):\n",
    "    for sy in range(1,3):\n",
    "        for f in fields:\n",
    "            df_ecl_scarti_sel = field_s1_s2(df_ecl_scarti_sel,f,fields[f],t,sy)\n",
    "\n",
    "\n",
    "#campi che non dipendono dallo staging\n",
    "\n",
    "fields = {\n",
    "    \"VAL_ECL_FINALE_G_T\": \"VAL_ECL_FINAL_T0_MIP\",\n",
    "    \"VAL_LGD_PIT_G_T\": \"VAL_LGD_PIT_T0\"\n",
    "}\n",
    "\n",
    "for t in range(anni_proiez+1):\n",
    "    for f in fields:\n",
    "        df_ecl_scarti_sel = field_s1_s2(df_ecl_scarti_sel,f,fields[f],t)\n",
    "    #campi S3, sempre uguali a 0 perchè portafoglio\n",
    "    df_ecl_scarti_sel = df_ecl_scarti_sel.withColumn(f\"VAL_EAD_PIT_G_SXS3_T{t}\",lit(0))\n",
    "    df_ecl_scarti_sel = df_ecl_scarti_sel.withColumn(f\"VAL_ECL_1Y_LT_G_SXS3_T{t}\",lit(0))\n",
    "    df_ecl_scarti_sel = df_ecl_scarti_sel.withColumn(f\"PRB_MIGR_G_SX_S3_T{t}\",lit(0))\n",
    "    #campo ECL_LT_EBA_SXS2\n",
    "    df_ecl_scarti_sel = df_ecl_scarti_sel.withColumn(f\"VAL_ECL_LT_EBA_G_SXS2_T{t}\",when(\n",
    "        col(\"COD_STAGING_T0_MIP\") == \"2\", col(f\"VAL_ECL_LT_T0\")).otherwise(0))\n",
    "    #campi PRB_MIGR\n",
    "    for sy in range(1,3):\n",
    "        df_ecl_scarti_sel = df_ecl_scarti_sel.withColumn(f\"PRB_MIGR_G_SX_S{sy}_T{t}\",when(\n",
    "            col(\"COD_STAGING_T0_MIP\") == f\"{sy}\", lit(1)).otherwise(0))\n",
    "\n",
    "df_ecl_scarti_sel = df_ecl_scarti_sel.withColumn(\"CASO_STEP\",lit(\"ECL_SCARTI\"))      \n",
    "df_ecl_scarti_out = df_ecl_scarti_sel.drop(*cols_sel)\n",
    "cols_out = df_ecl_scarti_out.columns\n"
   ]
  },
  {
   "cell_type": "markdown",
   "id": "a076222a-dc8d-4781-9ba0-9b09ba533d43",
   "metadata": {},
   "source": [
    "Si accodano i database provenienti dall'ecl_out e dall'ecl_scarti out in modo da recuperare agilmente i valori nelle join successive"
   ]
  },
  {
   "cell_type": "code",
   "execution_count": 45,
   "id": "81c7cf1d-7d06-4edf-8bdf-19fd86c6aeef",
   "metadata": {},
   "outputs": [],
   "source": [
    "df_ecl_out_sel = df_ecl_out.select(cols_out)\n",
    "df_out = df_ecl_out_sel.union(df_ecl_scarti_out)"
   ]
  },
  {
   "cell_type": "markdown",
   "id": "dd3011ae-5b89-43d5-9988-d549c3438119",
   "metadata": {},
   "source": [
    "##### 5.3.2 ECL_SCARTI_OUT_MIG"
   ]
  },
  {
   "cell_type": "markdown",
   "id": "55cf5ff1-d4db-4c0b-93d3-0ca6b3a99fbd",
   "metadata": {},
   "source": [
    "La stessa logica viene utilizzata in maniera analoga per calcolare l'ECL_SCARTI_OUT_MIG. I campi che prevedono migrazioni di staging (S1S2, S2S1, S3S2 etc saranno sempre uguali a 0, essendo lo staging fisso. I campi S1S1, S2S2 sono valorizzati in base allo staging a consuntivo (COD_STAGING_T0_MIP). I campi S3S3 comprendendo il portafoglio solo bonis sono sempre valorizzati a 0."
   ]
  },
  {
   "cell_type": "code",
   "execution_count": 46,
   "id": "621d8387-4041-4510-a2b8-c2e2dc12df38",
   "metadata": {},
   "outputs": [],
   "source": [
    "# selezione delle colonne effettivamente utilizzate\n",
    "df_ecl_scarti_sel = df_ecl_scarti.select(\"COD_ROW_ID_MIP\",*cols_sel)\n",
    "\n",
    "fields = {\n",
    "  \"VAL_ECL_1Y_G\": [\"VAL_ECL_1Y_T0\",3,2],\n",
    "  \"VAL_ECL_LT_G\": [\"VAL_ECL_LT_T0\",3,2],\n",
    "  \"VAL_EAD_PIT_G\": [\"VAL_EAD_PIT_T0\",3,3],\n",
    "  \"VAL_PD_LT_G\": [\"VAL_PD_LT_T0\",2,3],\n",
    "  \"VAL_PD_PIT_G\": [\"VAL_PD_PIT_1Y\",2,3]\n",
    "}\n",
    "\n",
    "\n",
    "def field_s1_s2(df,field_new, field_old, i, sx,sy):\n",
    "    cond = (col(\"COD_STAGING_T0_MIP\") == f\"{sy}\") & (col(\"COD_STAGING_T0_MIP\") == f\"{sx}\" )\n",
    "    df = df.withColumn(f\"{field_new}_S{sx}S{sy}_T{i}\", when(cond, col(f\"{field_old}\")).otherwise(0))\n",
    "    return df\n",
    "\n",
    "for t in range(anni_proiez+1):\n",
    "    for f in fields:\n",
    "        sx_f = fields[f][1]\n",
    "        sy_f = fields[f][2]\n",
    "        for sx in range(1,sx_f+1):\n",
    "            for sy in range(1,sy_f+1):\n",
    "                df_ecl_scarti_sel = field_s1_s2(df_ecl_scarti_sel,f,fields[f][0],t,sx,sy)        \n",
    "        \n",
    "        #campi VAL_ECL_1Y_LT_G\n",
    "        #sempre valorizzati a 0 perchè non ci sono default\n",
    "        for sx in range(1,4):\n",
    "            df_ecl_scarti_sel = df_ecl_scarti_sel.withColumn(f\"VAL_ECL_1Y_LT_G_S{sx}S3_T{t}\",lit(0))\n",
    "            \n",
    "        #campi VAL_ECL_LT_EBA_G_S2S2_Tx valorizzati quando COD_STAGING_T0_MIP = 2\n",
    "        df_ecl_scarti_sel = df_ecl_scarti_sel.withColumn(f\"VAL_ECL_LT_EBA_G_S2S2_T{t}\", \n",
    "                                                         when(col(\"COD_STAGING_T0_MIP\") == \"2\", col(\"VAL_ECL_LT_T0\")).otherwise(0))\n",
    "        \n",
    "        #campi PRB_MIGR, valorizzati a 1 quando sx=sy=COD_STAGING_MIP\n",
    "        \n",
    "\n",
    "        for sx in range(1,4):\n",
    "            for sy in range(1,4):\n",
    "                cond = (col(\"COD_STAGING_T0_MIP\") == f\"{sy}\") & (col(\"COD_STAGING_T0_MIP\") == f\"{sx}\" )\n",
    "                df_ecl_scarti_sel = df_ecl_scarti_sel.withColumn(f\"PRB_MIGR_G_S{sx}S{sy}_T{t}\", when(cond, lit(1)).otherwise(0))\n",
    "        \n",
    "        #campi VAL_PD VAL_LT S3 S3\n",
    "        df_ecl_scarti_sel = df_ecl_scarti_sel.withColumn(f\"VAL_PD_LT_G_S3S3_T{t}\", when(cond,col(\"VAL_PD_PIT_1Y\")).otherwise(0))\n",
    "        df_ecl_scarti_sel = df_ecl_scarti_sel.withColumn(f\"VAL_PD_PIT_G_S3S3_T{t}\", when(cond,col(\"VAL_PD_LT_T0\")).otherwise(0))\n",
    "        \n",
    "                                \n",
    "df_ecl_scarti_out_mig = df_ecl_scarti_sel.drop(*cols_sel)\n",
    "cols_out_mig = df_ecl_scarti_out_mig.columns"
   ]
  },
  {
   "cell_type": "markdown",
   "id": "da0e67a0-bc76-40f3-a213-214bb36734ae",
   "metadata": {},
   "source": [
    "Si accodano i database provenienti dall'ECL_OUT_MIG e dalla SCARTI_OUT_MIG per procedere più agevolmente nelle join successive"
   ]
  },
  {
   "cell_type": "code",
   "execution_count": 47,
   "id": "d5c5c454-0837-46ee-baf6-b0b5be7dad95",
   "metadata": {},
   "outputs": [
    {
     "name": "stdout",
     "output_type": "stream",
     "text": [
      "1752989\n",
      "Row(COD_ROW_ID_MIP='00000000000000000000000000291225', VAL_ECL_1Y_G_S1S1_T0=5.6757643806, VAL_ECL_1Y_G_S1S2_T0=0.0, VAL_ECL_1Y_G_S2S1_T0=0.0, VAL_ECL_1Y_G_S2S2_T0=0.0, VAL_ECL_1Y_G_S3S1_T0=0.0, VAL_ECL_1Y_G_S3S2_T0=0.0, VAL_ECL_1Y_LT_G_S1S3_T0=0, VAL_ECL_1Y_LT_G_S2S3_T0=0, VAL_ECL_1Y_LT_G_S3S3_T0=0, VAL_ECL_LT_EBA_G_S2S2_T0=0.0, PRB_MIGR_G_S1S1_T0=1, PRB_MIGR_G_S1S2_T0=0, PRB_MIGR_G_S1S3_T0=0, PRB_MIGR_G_S2S1_T0=0, PRB_MIGR_G_S2S2_T0=0, PRB_MIGR_G_S2S3_T0=0, PRB_MIGR_G_S3S1_T0=0, PRB_MIGR_G_S3S2_T0=0, PRB_MIGR_G_S3S3_T0=0, VAL_PD_LT_G_S3S3_T0=0.0, VAL_PD_PIT_G_S3S3_T0=0.0, VAL_ECL_LT_G_S1S1_T0=5.6757643806, VAL_ECL_LT_G_S1S2_T0=0.0, VAL_ECL_LT_G_S2S1_T0=0.0, VAL_ECL_LT_G_S2S2_T0=0.0, VAL_ECL_LT_G_S3S1_T0=0.0, VAL_ECL_LT_G_S3S2_T0=0.0, VAL_EAD_PIT_G_S1S1_T0=424419.68, VAL_EAD_PIT_G_S1S2_T0=0.0, VAL_EAD_PIT_G_S1S3_T0=0.0, VAL_EAD_PIT_G_S2S1_T0=0.0, VAL_EAD_PIT_G_S2S2_T0=0.0, VAL_EAD_PIT_G_S2S3_T0=0.0, VAL_EAD_PIT_G_S3S1_T0=0.0, VAL_EAD_PIT_G_S3S2_T0=0.0, VAL_EAD_PIT_G_S3S3_T0=0.0, VAL_PD_LT_G_S1S1_T0=None, VAL_PD_LT_G_S1S2_T0=0.0, VAL_PD_LT_G_S1S3_T0=0.0, VAL_PD_LT_G_S2S1_T0=0.0, VAL_PD_LT_G_S2S2_T0=0.0, VAL_PD_LT_G_S2S3_T0=0.0, VAL_PD_PIT_G_S1S1_T0=8.6e-05, VAL_PD_PIT_G_S1S2_T0=0.0, VAL_PD_PIT_G_S1S3_T0=0.0, VAL_PD_PIT_G_S2S1_T0=0.0, VAL_PD_PIT_G_S2S2_T0=0.0, VAL_PD_PIT_G_S2S3_T0=0.0, VAL_ECL_1Y_G_S1S1_T1=5.6757643806, VAL_ECL_1Y_G_S1S2_T1=0.0, VAL_ECL_1Y_G_S2S1_T1=0.0, VAL_ECL_1Y_G_S2S2_T1=0.0, VAL_ECL_1Y_G_S3S1_T1=0.0, VAL_ECL_1Y_G_S3S2_T1=0.0, VAL_ECL_1Y_LT_G_S1S3_T1=0, VAL_ECL_1Y_LT_G_S2S3_T1=0, VAL_ECL_1Y_LT_G_S3S3_T1=0, VAL_ECL_LT_EBA_G_S2S2_T1=0.0, PRB_MIGR_G_S1S1_T1=1, PRB_MIGR_G_S1S2_T1=0, PRB_MIGR_G_S1S3_T1=0, PRB_MIGR_G_S2S1_T1=0, PRB_MIGR_G_S2S2_T1=0, PRB_MIGR_G_S2S3_T1=0, PRB_MIGR_G_S3S1_T1=0, PRB_MIGR_G_S3S2_T1=0, PRB_MIGR_G_S3S3_T1=0, VAL_PD_LT_G_S3S3_T1=0.0, VAL_PD_PIT_G_S3S3_T1=0.0, VAL_ECL_LT_G_S1S1_T1=5.6757643806, VAL_ECL_LT_G_S1S2_T1=0.0, VAL_ECL_LT_G_S2S1_T1=0.0, VAL_ECL_LT_G_S2S2_T1=0.0, VAL_ECL_LT_G_S3S1_T1=0.0, VAL_ECL_LT_G_S3S2_T1=0.0, VAL_EAD_PIT_G_S1S1_T1=424419.68, VAL_EAD_PIT_G_S1S2_T1=0.0, VAL_EAD_PIT_G_S1S3_T1=0.0, VAL_EAD_PIT_G_S2S1_T1=0.0, VAL_EAD_PIT_G_S2S2_T1=0.0, VAL_EAD_PIT_G_S2S3_T1=0.0, VAL_EAD_PIT_G_S3S1_T1=0.0, VAL_EAD_PIT_G_S3S2_T1=0.0, VAL_EAD_PIT_G_S3S3_T1=0.0, VAL_PD_LT_G_S1S1_T1=None, VAL_PD_LT_G_S1S2_T1=0.0, VAL_PD_LT_G_S1S3_T1=0.0, VAL_PD_LT_G_S2S1_T1=0.0, VAL_PD_LT_G_S2S2_T1=0.0, VAL_PD_LT_G_S2S3_T1=0.0, VAL_PD_PIT_G_S1S1_T1=8.6e-05, VAL_PD_PIT_G_S1S2_T1=0.0, VAL_PD_PIT_G_S1S3_T1=0.0, VAL_PD_PIT_G_S2S1_T1=0.0, VAL_PD_PIT_G_S2S2_T1=0.0, VAL_PD_PIT_G_S2S3_T1=0.0, VAL_ECL_1Y_G_S1S1_T2=5.6757643806, VAL_ECL_1Y_G_S1S2_T2=0.0, VAL_ECL_1Y_G_S2S1_T2=0.0, VAL_ECL_1Y_G_S2S2_T2=0.0, VAL_ECL_1Y_G_S3S1_T2=0.0, VAL_ECL_1Y_G_S3S2_T2=0.0, VAL_ECL_1Y_LT_G_S1S3_T2=0, VAL_ECL_1Y_LT_G_S2S3_T2=0, VAL_ECL_1Y_LT_G_S3S3_T2=0, VAL_ECL_LT_EBA_G_S2S2_T2=0.0, PRB_MIGR_G_S1S1_T2=1, PRB_MIGR_G_S1S2_T2=0, PRB_MIGR_G_S1S3_T2=0, PRB_MIGR_G_S2S1_T2=0, PRB_MIGR_G_S2S2_T2=0, PRB_MIGR_G_S2S3_T2=0, PRB_MIGR_G_S3S1_T2=0, PRB_MIGR_G_S3S2_T2=0, PRB_MIGR_G_S3S3_T2=0, VAL_PD_LT_G_S3S3_T2=0.0, VAL_PD_PIT_G_S3S3_T2=0.0, VAL_ECL_LT_G_S1S1_T2=5.6757643806, VAL_ECL_LT_G_S1S2_T2=0.0, VAL_ECL_LT_G_S2S1_T2=0.0, VAL_ECL_LT_G_S2S2_T2=0.0, VAL_ECL_LT_G_S3S1_T2=0.0, VAL_ECL_LT_G_S3S2_T2=0.0, VAL_EAD_PIT_G_S1S1_T2=424419.68, VAL_EAD_PIT_G_S1S2_T2=0.0, VAL_EAD_PIT_G_S1S3_T2=0.0, VAL_EAD_PIT_G_S2S1_T2=0.0, VAL_EAD_PIT_G_S2S2_T2=0.0, VAL_EAD_PIT_G_S2S3_T2=0.0, VAL_EAD_PIT_G_S3S1_T2=0.0, VAL_EAD_PIT_G_S3S2_T2=0.0, VAL_EAD_PIT_G_S3S3_T2=0.0, VAL_PD_LT_G_S1S1_T2=None, VAL_PD_LT_G_S1S2_T2=0.0, VAL_PD_LT_G_S1S3_T2=0.0, VAL_PD_LT_G_S2S1_T2=0.0, VAL_PD_LT_G_S2S2_T2=0.0, VAL_PD_LT_G_S2S3_T2=0.0, VAL_PD_PIT_G_S1S1_T2=8.6e-05, VAL_PD_PIT_G_S1S2_T2=0.0, VAL_PD_PIT_G_S1S3_T2=0.0, VAL_PD_PIT_G_S2S1_T2=0.0, VAL_PD_PIT_G_S2S2_T2=0.0, VAL_PD_PIT_G_S2S3_T2=0.0, VAL_ECL_1Y_G_S1S1_T3=5.6757643806, VAL_ECL_1Y_G_S1S2_T3=0.0, VAL_ECL_1Y_G_S2S1_T3=0.0, VAL_ECL_1Y_G_S2S2_T3=0.0, VAL_ECL_1Y_G_S3S1_T3=0.0, VAL_ECL_1Y_G_S3S2_T3=0.0, VAL_ECL_1Y_LT_G_S1S3_T3=0, VAL_ECL_1Y_LT_G_S2S3_T3=0, VAL_ECL_1Y_LT_G_S3S3_T3=0, VAL_ECL_LT_EBA_G_S2S2_T3=0.0, PRB_MIGR_G_S1S1_T3=1, PRB_MIGR_G_S1S2_T3=0, PRB_MIGR_G_S1S3_T3=0, PRB_MIGR_G_S2S1_T3=0, PRB_MIGR_G_S2S2_T3=0, PRB_MIGR_G_S2S3_T3=0, PRB_MIGR_G_S3S1_T3=0, PRB_MIGR_G_S3S2_T3=0, PRB_MIGR_G_S3S3_T3=0, VAL_PD_LT_G_S3S3_T3=0.0, VAL_PD_PIT_G_S3S3_T3=0.0, VAL_ECL_LT_G_S1S1_T3=5.6757643806, VAL_ECL_LT_G_S1S2_T3=0.0, VAL_ECL_LT_G_S2S1_T3=0.0, VAL_ECL_LT_G_S2S2_T3=0.0, VAL_ECL_LT_G_S3S1_T3=0.0, VAL_ECL_LT_G_S3S2_T3=0.0, VAL_EAD_PIT_G_S1S1_T3=424419.68, VAL_EAD_PIT_G_S1S2_T3=0.0, VAL_EAD_PIT_G_S1S3_T3=0.0, VAL_EAD_PIT_G_S2S1_T3=0.0, VAL_EAD_PIT_G_S2S2_T3=0.0, VAL_EAD_PIT_G_S2S3_T3=0.0, VAL_EAD_PIT_G_S3S1_T3=0.0, VAL_EAD_PIT_G_S3S2_T3=0.0, VAL_EAD_PIT_G_S3S3_T3=0.0, VAL_PD_LT_G_S1S1_T3=None, VAL_PD_LT_G_S1S2_T3=0.0, VAL_PD_LT_G_S1S3_T3=0.0, VAL_PD_LT_G_S2S1_T3=0.0, VAL_PD_LT_G_S2S2_T3=0.0, VAL_PD_LT_G_S2S3_T3=0.0, VAL_PD_PIT_G_S1S1_T3=8.6e-05, VAL_PD_PIT_G_S1S2_T3=0.0, VAL_PD_PIT_G_S1S3_T3=0.0, VAL_PD_PIT_G_S2S1_T3=0.0, VAL_PD_PIT_G_S2S2_T3=0.0, VAL_PD_PIT_G_S2S3_T3=0.0)\n"
     ]
    }
   ],
   "source": [
    "df_ecl_out_mig_sel = df_ecl_out_mig.select(cols_out_mig)\n",
    "df_out_mig = df_ecl_out_mig_sel.union(df_ecl_scarti_out_mig)\n",
    "print(df_out_mig.count())\n",
    "print(df_ecl_scarti_out_mig.head())"
   ]
  },
  {
   "cell_type": "markdown",
   "id": "31a4a2e6-6f7c-4d13-8b23-bfb6c3e14724",
   "metadata": {},
   "source": [
    "##### 5.4 Step2 - Allocazione Misure ECL_OUT"
   ]
  },
  {
   "cell_type": "markdown",
   "id": "1bed12c8-96ef-42f7-9461-d30afa2428c9",
   "metadata": {},
   "source": [
    "Si procede quindi ad allocare le misure calcolate sui cluster nel motore dell'ECL (tabella ECL_OUT a cui è stata accodato l'ECL_SCARTI opportunamente modificata) sulla base dati di dettaglio TE_BDRI0_ETL_MIP_BRM_RRM contenente le tranche. \n",
    "La logica implementata sarà la seguente:\n",
    "- per gli importi questi saranno allocati sulla base dell'esposizione della tranche (**IMP_EAD_PIT**) rispetto a quella totale del cluster (**VAL_EAD_TOT_CLUSTER**)\n",
    "- per i parametri il parametro sarà semplicemente riportato nella tranche corrispondente\n",
    "\n",
    "Nel codice sottostante è possibile vedere i campi importo e i parametri"
   ]
  },
  {
   "cell_type": "code",
   "execution_count": 48,
   "id": "4dfae1c0-ca44-424b-8ca1-099d8631fb30",
   "metadata": {},
   "outputs": [],
   "source": [
    "fields_importi = [\n",
    "    \"VAL_ECL_FINALE_G_T\",\n",
    "    \"VAL_ECL_1Y_G_SXS1_T\",\n",
    "    \"VAL_ECL_1Y_G_SXS2_T\",\n",
    "    \"VAL_ECL_LT_G_SXS1_T\",\n",
    "    \"VAL_ECL_LT_G_SXS2_T\",\n",
    "    \"VAL_ECL_LT_EBA_G_SxS2_T\",\n",
    "    \"VAL_EAD_PIT_G_SXS1_T\",\n",
    "    \"VAL_EAD_PIT_G_SXS2_T\",\n",
    "    \"VAL_EAD_PIT_G_SXS3_T\",\n",
    "    \"VAL_ECL_1Y_LT_G_SXS3_T\" \n",
    "]\n",
    "\n",
    "fields_parametri = [\n",
    "    \"PRB_MIGR_G_SX_S1_T\",\n",
    "    \"PRB_MIGR_G_SX_S2_T\",\n",
    "    \"PRB_MIGR_G_SX_S3_T\",\n",
    "    \"VAL_PD_LT_G_SXS1_T\", \n",
    "    \"VAL_PD_LT_G_SXS2_T\",\n",
    "    \"VAL_PD_PIT_G_SXS1_T\",\n",
    "    \"VAL_PD_PIT_G_SXS2_T\",\n",
    "    \"VAL_LGD_PIT_G_T\",\n",
    "]\n",
    "\n",
    "\n",
    "\n"
   ]
  },
  {
   "cell_type": "code",
   "execution_count": 49,
   "id": "e2c24cd8-821a-4d53-91e1-eb2a3edbc805",
   "metadata": {},
   "outputs": [],
   "source": [
    "df_allocatore_out = df_etl_mip_brm.alias(\"a\").join(df_out,on=\"COD_ROW_ID_MIP\",how=\"left\"). \\\n",
    "select(\"a.COD_EXP\",\"a.COD_CRM\",\"a.COD_SNDG\",*[col(f\"{field}{i}\") for i in range(anni_proiez+1) for field in fields_parametri], \\\n",
    "       *[(col(f\"{field}{i}\") * col(\"IMP_EAD_PIT\")/col(\"VAL_EAD_TOT_CLUSTER\")).alias(f\"{field}{i}\") for i in range(anni_proiez+1) for field in fields_importi], col(\"CASO_STEP\"))"
   ]
  },
  {
   "cell_type": "markdown",
   "id": "d51255c2-26f4-41e4-a509-29f5c848b7e9",
   "metadata": {},
   "source": [
    "##### Check"
   ]
  },
  {
   "cell_type": "markdown",
   "id": "d64b13f7-2f61-463b-99ca-3a576b6906aa",
   "metadata": {},
   "source": [
    "Di seguito filtriamo un COD_ROW_ID_MIP specifico a titolo di esempio. Come è possibile osservare all'unico cod_row_id_mip dell'ECL_OUT corrispondono tre tranche nell'ETL_BRM_RRM_MIP"
   ]
  },
  {
   "cell_type": "code",
   "execution_count": 23,
   "id": "cbc60a10-e202-41a1-a9ca-8fc65606300b",
   "metadata": {},
   "outputs": [
    {
     "name": "stderr",
     "output_type": "stream",
     "text": [
      "                                                                                \r"
     ]
    },
    {
     "name": "stdout",
     "output_type": "stream",
     "text": [
      "11450960\n"
     ]
    },
    {
     "name": "stderr",
     "output_type": "stream",
     "text": [
      "                                                                                \r"
     ]
    },
    {
     "data": {
      "text/plain": [
       "Row(COD_ROW_ID_MIP='00000000000000000000000001494697', VAL_ECL_1Y_G_SXS1_T0=37.41632871, VAL_ECL_LT_G_SXS1_T0=1466.8854122, VAL_EAD_PIT_G_SXS1_T0=398749.18, VAL_PD_LT_G_SXS1_T0=0.0816060738, VAL_PD_PIT_G_SXS1_T0=0.0011520819, VAL_ECL_1Y_G_SXS2_T0=0.0, VAL_ECL_LT_G_SXS2_T0=0.0, VAL_EAD_PIT_G_SXS2_T0=0.0, VAL_PD_LT_G_SXS2_T0=0.0, VAL_PD_PIT_G_SXS2_T0=0.0, VAL_ECL_1Y_G_SXS1_T1=37.743976532, VAL_ECL_LT_G_SXS1_T1=1360.6609063, VAL_EAD_PIT_G_SXS1_T1=396989.47805, VAL_PD_LT_G_SXS1_T1=0.0767074377, VAL_PD_PIT_G_SXS1_T1=0.0011307924, VAL_ECL_1Y_G_SXS2_T1=1.192325409, VAL_ECL_LT_G_SXS2_T1=7.2075742308, VAL_EAD_PIT_G_SXS2_T1=1307.8114428, VAL_PD_LT_G_SXS2_T1=0.0003439715, VAL_PD_PIT_G_SXS2_T1=3.57215e-05, VAL_ECL_1Y_G_SXS1_T2=35.749366331, VAL_ECL_LT_G_SXS1_T2=1258.6355421, VAL_EAD_PIT_G_SXS1_T2=396537.05039, VAL_PD_LT_G_SXS1_T2=0.0722782971, VAL_PD_PIT_G_SXS1_T2=0.0010637914, VAL_ECL_1Y_G_SXS2_T2=1.5711195743, VAL_ECL_LT_G_SXS2_T2=7.7876890834, VAL_EAD_PIT_G_SXS2_T2=1305.2723177, VAL_PD_LT_G_SXS2_T2=0.0003603638, VAL_PD_PIT_G_SXS2_T2=4.67517e-05, VAL_ECL_1Y_G_SXS1_T3=30.931035419, VAL_ECL_LT_G_SXS1_T3=1176.262197, VAL_EAD_PIT_G_SXS1_T3=396225.38622, VAL_PD_LT_G_SXS1_T3=0.0687853946, VAL_PD_PIT_G_SXS1_T3=0.0009204127, VAL_ECL_1Y_G_SXS2_T3=1.5018706511, VAL_ECL_LT_G_SXS2_T3=7.0867454853, VAL_EAD_PIT_G_SXS2_T3=1183.9627482, VAL_PD_LT_G_SXS2_T3=0.0003265366, VAL_PD_PIT_G_SXS2_T3=4.46911e-05, VAL_ECL_FINALE_G_T0=37.41632871, VAL_LGD_PIT_G_T0=0.0814475503, VAL_EAD_PIT_G_SXS3_T0=0.0, VAL_ECL_1Y_LT_G_SXS3_T0=0.0, PRB_MIGR_G_SX_S3_T0=0.0, VAL_ECL_LT_EBA_G_SXS2_T0=0.0, PRB_MIGR_G_SX_S1_T0=1.0, PRB_MIGR_G_SX_S2_T0=0.0, VAL_ECL_FINALE_G_T1=44.951550763, VAL_LGD_PIT_G_T1=0.0837076127, VAL_EAD_PIT_G_SXS3_T1=451.8905068, VAL_ECL_1Y_LT_G_SXS3_T1=37.826675545, PRB_MIGR_G_SX_S3_T1=0.0011332701, VAL_ECL_LT_EBA_G_SXS2_T1=7.2075742308, PRB_MIGR_G_SX_S1_T1=0.9955869453, PRB_MIGR_G_SX_S2_T1=0.0032797847, VAL_ECL_FINALE_G_T2=43.537055414, VAL_LGD_PIT_G_T2=0.0842775789, VAL_EAD_PIT_G_SXS3_T2=906.85729069, VAL_ECL_1Y_LT_G_SXS3_T2=76.427736849, PRB_MIGR_G_SX_S3_T2=0.0022742549, VAL_ECL_LT_EBA_G_SXS2_T2=7.7210601132, PRB_MIGR_G_SX_S1_T2=0.9944523281, PRB_MIGR_G_SX_S2_T2=0.0032734169, VAL_ECL_FINALE_G_T3=38.017780905, VAL_LGD_PIT_G_T3=0.0842775789, VAL_EAD_PIT_G_SXS3_T3=1339.8310353, VAL_ECL_1Y_LT_G_SXS3_T3=112.91771577, PRB_MIGR_G_SX_S3_T3=0.0033600847, VAL_ECL_LT_EBA_G_SXS2_T3=7.0037281961, PRB_MIGR_G_SX_S1_T3=0.9936707236, PRB_MIGR_G_SX_S2_T3=0.0029691917, CASO_STEP='STEP2A')"
      ]
     },
     "execution_count": 23,
     "metadata": {},
     "output_type": "execute_result"
    }
   ],
   "source": [
    "#uncomment to execute\n",
    "print(df_allocatore_out.count())\n",
    "cod_row_id_mip =\"00000000000000000000000001494697\"\n",
    "df_allocatore_out.filter(df_allocatore_out.COD_ROW_ID_MIP == \"00000000000000000000000001494697\").head(3)\n",
    "df_out.filter(df_out.COD_ROW_ID_MIP == \"00000000000000000000000001494697\").head()"
   ]
  },
  {
   "cell_type": "markdown",
   "id": "4347e994-c3f3-48b1-ac6b-8aa56281f7fe",
   "metadata": {},
   "source": [
    "Verifica ECL_FINALE"
   ]
  },
  {
   "cell_type": "markdown",
   "id": "ec6d14ab-27fb-4a4d-a027-08ff84f90394",
   "metadata": {},
   "source": [
    "df_etl_mip_brm_out.groupby().sum(\"VAL_ECL_FINALE_G_T0\").show()\n",
    "df_out.groupby().sum(\"VAL_ECL_FINALE_G_T0\").show()"
   ]
  },
  {
   "cell_type": "code",
   "execution_count": 24,
   "id": "9b2129bb-5da9-439d-b0a2-199e34984fb0",
   "metadata": {},
   "outputs": [
    {
     "name": "stderr",
     "output_type": "stream",
     "text": [
      "                                                                                \r"
     ]
    },
    {
     "name": "stdout",
     "output_type": "stream",
     "text": [
      "+------------------------+\n",
      "|sum(VAL_ECL_FINALE_G_T0)|\n",
      "+------------------------+\n",
      "|    2.0717411895564346E9|\n",
      "+------------------------+\n",
      "\n",
      "+------------------------+\n",
      "|sum(VAL_ECL_FINALE_G_T0)|\n",
      "+------------------------+\n",
      "|    2.0717411895571227E9|\n",
      "+------------------------+\n",
      "\n"
     ]
    }
   ],
   "source": [
    "df_allocatore_out.groupby().sum(\"VAL_ECL_FINALE_G_T0\").show()\n",
    "df_out.groupby().sum(\"VAL_ECL_FINALE_G_T0\").show()"
   ]
  },
  {
   "cell_type": "markdown",
   "id": "159a4579-11c6-492b-8a9a-f53ed7044849",
   "metadata": {},
   "source": [
    "Verifica EAD"
   ]
  },
  {
   "cell_type": "code",
   "execution_count": 25,
   "id": "3c87ae9f-974d-40e5-89c9-13fb8a3d598c",
   "metadata": {},
   "outputs": [
    {
     "name": "stderr",
     "output_type": "stream",
     "text": [
      "                                                                                \r"
     ]
    },
    {
     "name": "stdout",
     "output_type": "stream",
     "text": [
      "+--------------------------+\n",
      "|sum(VAL_EAD_PIT_G_SXS1_T3)|\n",
      "+--------------------------+\n",
      "|      3.889186708630942...|\n",
      "+--------------------------+\n",
      "\n",
      "+--------------------------+\n",
      "|sum(VAL_EAD_PIT_G_SXS1_T3)|\n",
      "+--------------------------+\n",
      "|      3.889186708632342E11|\n",
      "+--------------------------+\n",
      "\n"
     ]
    }
   ],
   "source": [
    "df_allocatore_out.groupby().sum(\"VAL_EAD_PIT_G_SXS1_T3\").show()\n",
    "df_out.groupby().sum(\"VAL_EAD_PIT_G_SXS1_T3\").show()"
   ]
  },
  {
   "cell_type": "code",
   "execution_count": null,
   "id": "b8f73cd3-cd6e-4bae-9ddf-1d2e0a297516",
   "metadata": {},
   "outputs": [],
   "source": [
    "#ead iniziale \n",
    "df_ecl_out.groupby().sum(\"VAL_EAD_PIT_T0\").union(df_ecl_scarti.groupby().sum(\"VAL_EAD_PIT_T0\")).groupby().sum(\"sum(VAL_EAD_PIT_T0)\").show()"
   ]
  },
  {
   "cell_type": "code",
   "execution_count": null,
   "id": "12726850-9fdb-45d4-8863-149591459290",
   "metadata": {},
   "outputs": [],
   "source": [
    "df_allocatore_out = df_allocatore_out.withColumn(\"EAD_T3\",col(\"VAL_EAD_PIT_G_SXS1_T3\")+ col(\"VAL_EAD_PIT_G_SXS2_T3\")+col(\"VAL_EAD_PIT_G_SXS3_T3\"))\n",
    "df_allocatore_out = df_allocatore_out.withColumn(\"EAD_T2\",col(\"VAL_EAD_PIT_G_SXS1_T2\")+ col(\"VAL_EAD_PIT_G_SXS2_T2\")+col(\"VAL_EAD_PIT_G_SXS3_T2\"))\n",
    "df_allocatore_out = df_allocatore_out.withColumn(\"EAD_T1\",col(\"VAL_EAD_PIT_G_SXS1_T1\")+ col(\"VAL_EAD_PIT_G_SXS2_T1\")+col(\"VAL_EAD_PIT_G_SXS3_T1\"))\n",
    "df_allocatore_out = df_allocatore_out.withColumn(\"EAD_T0\",col(\"VAL_EAD_PIT_G_SXS1_T0\")+ col(\"VAL_EAD_PIT_G_SXS2_T0\")+col(\"VAL_EAD_PIT_G_SXS3_T0\"))\n",
    "df_pivot = df_allocatore_out.groupby().sum(\"EAD_T0\",\"EAD_T1\",\"EAD_T2\",\"EAD_T3\")\n",
    "df_pivot.select(*[round(col(c),0).alias(c) for c in df_pivot.columns]).show()"
   ]
  },
  {
   "cell_type": "code",
   "execution_count": null,
   "id": "c7cbbc45-8a22-42b4-aa56-a92e467c38b3",
   "metadata": {},
   "outputs": [],
   "source": [
    "df_allocatore_out.filter(col(\"VAL_ECL_FINALE_G_T0\").isNull()).head()"
   ]
  },
  {
   "cell_type": "code",
   "execution_count": null,
   "id": "025a2fac-d7f3-4d32-bd93-be15cd9d48ad",
   "metadata": {},
   "outputs": [],
   "source": [
    "df_out.filter(df_out.COD_ROW_ID_MIP == \"00000000000000000000000000000978\").head()"
   ]
  },
  {
   "cell_type": "markdown",
   "id": "bf4a69f6-d5c5-49a7-b3b4-f14d2b2999af",
   "metadata": {},
   "source": [
    "##### 5.5 Step 2 - Allocazione Misure ECL_OUT_MIG"
   ]
  },
  {
   "cell_type": "markdown",
   "id": "80170880-84e2-405c-b2e4-904f1d912290",
   "metadata": {},
   "source": [
    "SI procede ad allocare le misure provenienti dall'ECL_OUT_MIG con le stesse logiche utilizzate per l'ECL_OUT"
   ]
  },
  {
   "cell_type": "code",
   "execution_count": 50,
   "id": "a739ddf6-12bd-4923-bb65-d8d1dcf4f899",
   "metadata": {},
   "outputs": [
    {
     "name": "stdout",
     "output_type": "stream",
     "text": [
      "['VAL_ECL_1Y_G_S1S1_T', 'VAL_ECL_1Y_G_S2S1_T', 'VAL_ECL_1Y_G_S1S2_T', 'VAL_ECL_1Y_G_S2S2_T', 'VAL_ECL_1Y_G_S3S1_T', 'VAL_ECL_1Y_G_S3S2_T', 'VAL_ECL_1Y_LT_G_S1S3_T', 'VAL_ECL_1Y_LT_G_S2S3_T', 'VAL_ECL_1Y_LT_G_S3S3_T', 'VAL_ECL_LT_G_S1S1_T', 'VAL_ECL_LT_G_S2S1_T', 'VAL_ECL_LT_G_S1S2_T', 'VAL_ECL_LT_G_S2S2_T', 'VAL_ECL_LT_G_S3S1_T', 'VAL_ECL_LT_G_S3S2_T', 'VAL_ECL_LT_EBA_G_S2S2_T', 'VAL_EAD_PIT_G_S1S1_T', 'VAL_EAD_PIT_G_S2S1_T', 'VAL_EAD_PIT_G_S1S2_T', 'VAL_EAD_PIT_G_S2S2_T', 'VAL_EAD_PIT_G_S1S3_T', 'VAL_EAD_PIT_G_S2S3_T', 'VAL_EAD_PIT_G_S3S1_T', 'VAL_EAD_PIT_G_S3S2_T', 'VAL_EAD_PIT_G_S3S3_T']\n"
     ]
    }
   ],
   "source": [
    "fields_importi = [\n",
    "\"VAL_ECL_1Y_G_S1S1_T\",\n",
    "\"VAL_ECL_1Y_G_S2S1_T\",\n",
    "\"VAL_ECL_1Y_G_S1S2_T\",\n",
    "\"VAL_ECL_1Y_G_S2S2_T\",\n",
    "\"VAL_ECL_1Y_G_S3S1_T\",\n",
    "\"VAL_ECL_1Y_G_S3S2_T\",\n",
    "\"VAL_ECL_1Y_LT_G_S1S3_T\",\n",
    "\"VAL_ECL_1Y_LT_G_S2S3_T\",\n",
    "\"VAL_ECL_1Y_LT_G_S3S3_T\",\n",
    "\"VAL_ECL_LT_G_S1S1_T\",\n",
    "\"VAL_ECL_LT_G_S2S1_T\",\n",
    "\"VAL_ECL_LT_G_S1S2_T\",\n",
    "\"VAL_ECL_LT_G_S2S2_T\",\n",
    "\"VAL_ECL_LT_G_S3S1_T\",\n",
    "\"VAL_ECL_LT_G_S3S2_T\",\n",
    "\"VAL_ECL_LT_EBA_G_S2S2_T\",\n",
    "\"VAL_EAD_PIT_G_S1S1_T\",\n",
    "\"VAL_EAD_PIT_G_S2S1_T\",\n",
    "\"VAL_EAD_PIT_G_S1S2_T\",\n",
    "\"VAL_EAD_PIT_G_S2S2_T\",\n",
    "\"VAL_EAD_PIT_G_S1S3_T\",\n",
    "\"VAL_EAD_PIT_G_S2S3_T\",\n",
    "\"VAL_EAD_PIT_G_S3S1_T\",\n",
    "\"VAL_EAD_PIT_G_S3S2_T\",\n",
    "\"VAL_EAD_PIT_G_S3S3_T\"\n",
    "]\n",
    "\n",
    "fields_parametri = [\n",
    "\"PRB_MIGR_G_S1S1_T\",\n",
    "\"PRB_MIGR_G_S2S1_T\",\n",
    "\"PRB_MIGR_G_S3S1_T\",\n",
    "\"PRB_MIGR_G_S1S2_T\",\n",
    "\"PRB_MIGR_G_S2S2_T\",\n",
    "\"PRB_MIGR_G_S3S2_T\",\n",
    "\"PRB_MIGR_G_S1S3_T\",\n",
    "\"PRB_MIGR_G_S2S3_T\",\n",
    "\"PRB_MIGR_G_S3S3_T\",\n",
    "\"VAL_PD_LT_G_S1S1_T\",\n",
    "\"VAL_PD_LT_G_S2S1_T\",\n",
    "\"VAL_PD_LT_G_S1S2_T\",\n",
    "\"VAL_PD_LT_G_S2S2_T\",\n",
    "\"VAL_PD_LT_G_S2S3_T\",\n",
    "\"VAL_PD_LT_G_S1S3_T\",\n",
    "\"VAL_PD_PIT_G_S1S1_T\",\n",
    "\"VAL_PD_PIT_G_S2S1_T\",\n",
    "\"VAL_PD_PIT_G_S1S2_T\",\n",
    "\"VAL_PD_PIT_G_S2S2_T\",\n",
    "\"VAL_PD_PIT_G_S1S3_T\",\n",
    "\"VAL_PD_PIT_G_S2S3_T\"\n",
    "]\n",
    "\n",
    "print(fields_importi)"
   ]
  },
  {
   "cell_type": "code",
   "execution_count": null,
   "id": "e39e5096-1bc8-46b1-b937-35a4d314757e",
   "metadata": {},
   "outputs": [],
   "source": [
    "df_allocatore_out_mig = df_etl_mip_brm.alias(\"c\").join(df_out_mig,on=\"COD_ROW_ID_MIP\",how=\"left\"). \\\n",
    "select(\"c.COD_EXP,c.COD_CRM,c.COD_SNDG\",*[col(f\"{field}{i}\") for i in range(anni_proiez+1) for field in fields_parametri], \\\n",
    "       *[(col(f\"{field}{i}\") * col(\"IMP_EAD_PIT\")/col(\"VAL_EAD_TOT_CLUSTER\")).alias(f\"{field}{i}\") for i in range(anni_proiez+1) for field in fields_importi])"
   ]
  },
  {
   "cell_type": "markdown",
   "id": "66eefc81-6dd8-4f30-8273-8e33209650b5",
   "metadata": {},
   "source": [
    "##### Check risultati"
   ]
  },
  {
   "cell_type": "code",
   "execution_count": null,
   "id": "a3c82b2b-fcba-49b1-a848-d8647270e13a",
   "metadata": {},
   "outputs": [],
   "source": [
    "#verifica ECL\n",
    "def ecl_1y(df,i):\n",
    "    df = df.withColumn(f\"ECL_1Y_S1{i}\",col(f\"VAL_ECL_1Y_G_S1S1_T{i}\")+ col(f\"VAL_ECL_1Y_G_S2S1_T{i}\"))\n",
    "    return df\n",
    "                                          \n",
    "def ecl_lt(df,i):\n",
    "    df = df.withColumn(f\"ECL_LT_S2{i}\",col(f\"VAL_ECL_LT_G_S1S2_T{i}\")+ col(f\"VAL_ECL_LT_G_S2S2_T{i}\"))\n",
    "    return df\n",
    "\n",
    "for i in range(anni_proiez+1):\n",
    "    df_allocatore_out_mig =ecl_1y(df_allocatore_out_mig,i)\n",
    "    df_allocatore_out_mig =ecl_lt(df_allocatore_out_mig,i)\n",
    "    df_out_mig =ecl_1y(df_out_mig,i)\n",
    "    df_out_mig =ecl_lt(df_out_mig,i)\n",
    "\n",
    "    \n",
    "                                          \n",
    "\n",
    "df_pivot_out = df_allocatore_out.groupby().sum(\n",
    "    *[f\"VAL_ECL_1Y_G_SXS1_T{i}\" for i in range (anni_proiez+1)],\n",
    "#    *[f\"VAL_ECL_1Y_G_SXS2_T{i}\" for i in range (anni_proiez+1)],\n",
    "#    *[f\"VAL_ECL_LT_G_SXS1_T{i}\" for i in range (anni_proiez+1)],\n",
    "    *[f\"VAL_ECL_LT_G_SXS2_T{i}\" for i in range (anni_proiez+1)],\n",
    "    )\n",
    "\n",
    "df_pivot_ecl_out = df_out.groupby().sum(\n",
    "    *[f\"VAL_ECL_1Y_G_SXS1_T{i}\" for i in range (anni_proiez+1)],\n",
    "#    *[f\"VAL_ECL_1Y_G_SXS2_T{i}\" for i in range (anni_proiez+1)],\n",
    "#    *[f\"VAL_ECL_LT_G_SXS1_T{i}\" for i in range (anni_proiez+1)],\n",
    "    *[f\"VAL_ECL_LT_G_SXS2_T{i}\" for i in range (anni_proiez+1)],\n",
    "    )\n",
    "                    \n",
    "                                          \n",
    "    \n",
    "df_pivot = df_allocatore_out_mig.groupby().sum(\n",
    "    *[f\"ECL_1Y_S1{i}\" for i in range(anni_proiez+1)],\n",
    "    *[f\"ECL_LT_S2{i}\" for i in range(anni_proiez+1)],\n",
    "    )\n",
    "\n",
    "df_pivot_ecl_out_mig = df_out_mig.groupby().sum(\n",
    "    *[f\"ECL_1Y_S1{i}\" for i in range(anni_proiez+1)],\n",
    "    *[f\"ECL_LT_S2{i}\" for i in range(anni_proiez+1)],\n",
    "    )\n",
    "         \n",
    "print(ecl_out)                                               \n",
    "df_pivot_ecl_out.select(*[round(col(c),0).alias(c) for c in df_pivot_ecl_out.columns]).show()\n",
    "print(ecl_out_mig)     \n",
    "df_pivot_ecl_out_mig.select(*[round(col(c),0).alias(c) for c in df_pivot_ecl_out_mig.columns]).show() \n",
    "print(\"allocatore_out_mig\")\n",
    "df_pivot.select(*[round(col(c),0).alias(c) for c in df_pivot.columns]).show()\n",
    "print(\"allocatore_out\")\n",
    "df_pivot_out.select(*[round(col(c),0).alias(c) for c in df_pivot_out.columns]).show()"
   ]
  },
  {
   "cell_type": "code",
   "execution_count": null,
   "id": "4048f2ec-29fd-488e-bb34-8ca722a4dca0",
   "metadata": {},
   "outputs": [],
   "source": [
    "#verifica EAD\n",
    "def ead(df,i):\n",
    "    df = df_allocatore_out_mig.withColumn(f\"EAD_T{i}\",col(f\"VAL_EAD_PIT_G_S1S1_T{i}\")+ col(f\"VAL_EAD_PIT_G_S1S2_T{i}\")+col(f\"VAL_EAD_PIT_G_S1S3_T{i}\")\\\n",
    "                                                + col(f\"VAL_EAD_PIT_G_S2S1_T{i}\")+ col(f\"VAL_EAD_PIT_G_S2S2_T{i}\")+col(f\"VAL_EAD_PIT_G_S2S3_T{i}\")\\\n",
    "                                                + col(f\"VAL_EAD_PIT_G_S3S1_T{i}\")+ col(f\"VAL_EAD_PIT_G_S3S2_T{i}\")+col(f\"VAL_EAD_PIT_G_S3S3_T{i}\"))\n",
    "    return df\n",
    "\n",
    "for i in range(anni_proiez+1):\n",
    "    df_allocatore_out_mig =ead(df_allocatore_out_mig,i)\n",
    "    \n",
    "df_pivot = df_allocatore_out_mig.groupby().sum(\"EAD_T0\",\"EAD_T1\",\"EAD_T2\",\"EAD_T3\")\n",
    "df_pivot.select(*[round(col(c),0).alias(c) for c in df_pivot.columns]).show()"
   ]
  },
  {
   "cell_type": "markdown",
   "id": "37cb8305-cb64-45b0-8a4b-154466be94d0",
   "metadata": {},
   "source": [
    "##### 5.6 Recupero Informazioni addizionali"
   ]
  },
  {
   "cell_type": "markdown",
   "id": "80e7eb3f-6842-45fc-8126-952a4e6114cc",
   "metadata": {},
   "source": [
    "Al fine di aumentare la flessibilità dell'intero processo IFRS9 e permettere all'utente finale di inserire ulteriori informazioni rispetto a quelle già presenti nel database dell'ETL_IFRS9 (TE_BRM_RRM_MIP_IFRS9) è stata introdotta la possibilità di definire, a carico dell'utente, una tabella (TE_IFR9_INFO_ADDIZIONALI) che consente all’utente di arricchire la base dati di nuove colonne, in base alle proprie esigenze, sulla base di un identificativo di tranche o di controparte.\n",
    "\n",
    "La tabella avrà la seguente struttura.\n",
    "\n",
    "- DAT_REPORT\n",
    "- ID_VERSIONE\n",
    "- COD_SNDG\n",
    "- COD_EXP\n",
    "- COD_CRM\n",
    "- NOM_INFO_ADDIZIONALI\n",
    "- COD_INFO_ADDIZIONALI\n",
    "\n",
    "Nella Colonna COD_INFO_ADDIZIONALI andranno concatenate a cura dell’utente con un “|” le informazioni che si desidera aggiungere al database. \n",
    "Nella Colonna NOM_INFO_ADDIZIONALI andranno concatenate a cura dell’utente con un “|” il nome delle colonne che si è inserito.\n",
    "La tabella recupererà il campo i due campi andando in join per:\n",
    "- **COD_EXP**, **COD_CRM** se il parametro da interfaccia **CHIAVE_INFO_ADDIZIONALI** = “Tranche” \n",
    "- per **COD_SNDG** se il parametro da interfaccia **CHIAVE_INFO_ADDIZIONALI** = “Controparte” \n"
   ]
  },
  {
   "cell_type": "code",
   "execution_count": 53,
   "id": "a2b0d553-a41c-439a-9581-7b20ab600f30",
   "metadata": {},
   "outputs": [
    {
     "name": "stderr",
     "output_type": "stream",
     "text": [
      "                                                                                \r"
     ]
    },
    {
     "data": {
      "text/plain": [
       "[Row(COD_EXP='EXAC0000000100000017', COD_CRM='CRGU0000000101457890', COD_SNDG='0000000107416751', PRB_MIGR_G_SX_S1_T0=1.0, PRB_MIGR_G_SX_S2_T0=0.0, PRB_MIGR_G_SX_S3_T0=0.0, VAL_PD_LT_G_SXS1_T0=0.0973842426, VAL_PD_LT_G_SXS2_T0=0.0, VAL_PD_PIT_G_SXS1_T0=0.000923562, VAL_PD_PIT_G_SXS2_T0=0.0, VAL_LGD_PIT_G_T0=0.2719796665, PRB_MIGR_G_SX_S1_T1=0.9963142118, PRB_MIGR_G_SX_S2_T1=0.0027885722, PRB_MIGR_G_SX_S3_T1=0.0008972161, VAL_PD_LT_G_SXS1_T1=0.0723957487, VAL_PD_LT_G_SXS2_T1=0.0013570958, VAL_PD_PIT_G_SXS1_T1=0.0007809802, VAL_PD_PIT_G_SXS2_T1=0.0003658948, VAL_LGD_PIT_G_T1=0.2703880409, PRB_MIGR_G_SX_S1_T2=0.9933564689, PRB_MIGR_G_SX_S2_T2=0.0046514253, PRB_MIGR_G_SX_S3_T2=0.0019921058, VAL_PD_LT_G_SXS1_T2=0.0637958987, VAL_PD_LT_G_SXS2_T2=0.002103044, VAL_PD_PIT_G_SXS1_T2=0.0006570503, VAL_PD_PIT_G_SXS2_T2=0.0004930276, VAL_LGD_PIT_G_T2=0.2651783107, PRB_MIGR_G_SX_S1_T3=0.9941794159, PRB_MIGR_G_SX_S2_T3=0.0027330194, PRB_MIGR_G_SX_S3_T3=0.0030875646, VAL_PD_LT_G_SXS1_T3=0.0580316851, VAL_PD_LT_G_SXS2_T3=0.0013583077, VAL_PD_PIT_G_SXS1_T3=0.0006094811, VAL_PD_PIT_G_SXS2_T3=0.0003652494, VAL_LGD_PIT_G_T3=0.2651783107, VAL_ECL_FINALE_G_T0=1.0888256785, VAL_ECL_1Y_G_SXS1_T0=1.0888256785, VAL_ECL_1Y_G_SXS2_T0=0.0, VAL_ECL_LT_G_SXS1_T0=1.0888256785, VAL_ECL_LT_G_SXS2_T0=0.0, VAL_ECL_LT_EBA_G_SxS2_T0=0.0, VAL_EAD_PIT_G_SXS1_T0=13000.0, VAL_EAD_PIT_G_SXS2_T0=0.0, VAL_EAD_PIT_G_SXS3_T0=0.0, VAL_ECL_1Y_LT_G_SXS3_T0=0.0, VAL_ECL_FINALE_G_T1=1.3799274538, VAL_ECL_1Y_G_SXS1_T1=0.9179080785, VAL_ECL_1Y_G_SXS2_T1=0.4620193753, VAL_ECL_LT_G_SXS1_T1=0.9179080785, VAL_ECL_LT_G_SXS2_T1=0.4620193753, VAL_ECL_LT_EBA_G_SxS2_T1=0.4620193753, VAL_EAD_PIT_G_SXS1_T1=12952.084752999997, VAL_EAD_PIT_G_SXS2_T1=36.251438017, VAL_EAD_PIT_G_SXS3_T1=11.663808839, VAL_ECL_1Y_LT_G_SXS3_T1=3.1537544216, VAL_ECL_FINALE_G_T2=1.3594129696999997, VAL_ECL_1Y_G_SXS1_T2=0.7572180137999999, VAL_ECL_1Y_G_SXS2_T2=0.6021949559, VAL_ECL_LT_G_SXS1_T2=0.7572180137999999, VAL_ECL_LT_G_SXS2_T2=0.6021949559, VAL_ECL_LT_EBA_G_SxS2_T2=0.6021949559, VAL_EAD_PIT_G_SXS1_T2=12913.634095, VAL_EAD_PIT_G_SXS2_T2=60.468528996, VAL_EAD_PIT_G_SXS3_T2=25.897375909, VAL_ECL_1Y_LT_G_SXS3_T2=6.867422395, VAL_ECL_FINALE_G_T3=1.1516252692, VAL_ECL_1Y_G_SXS1_T3=0.7034767651, VAL_ECL_1Y_G_SXS2_T3=0.44814850409999996, VAL_ECL_LT_G_SXS1_T3=0.7034767651, VAL_ECL_LT_G_SXS2_T3=0.44814850409999996, VAL_ECL_LT_EBA_G_SxS2_T3=0.44814850409999996, VAL_EAD_PIT_G_SXS1_T3=12924.332407, VAL_EAD_PIT_G_SXS2_T3=35.529252793, VAL_EAD_PIT_G_SXS3_T3=40.13834038, VAL_ECL_1Y_LT_G_SXS3_T3=10.643817296, CASO_STEP='STEP2A', NOM_INFO_ADDIZIONALI='COD_DIVISA_ORIG|COD_ATECO_FINALE|COD_SUB_PORTAFOGLIO_FINALE', COD_INFO_ADDIZIONALI='EUR|000000|RETAIL_OTHER')]"
      ]
     },
     "execution_count": 53,
     "metadata": {},
     "output_type": "execute_result"
    }
   ],
   "source": [
    "if INFO_ADDIZIONALI == 1:\n",
    "    if CHIAVE_INFO_ADDIZIONALI == \"Tranche\":\n",
    "        df_allocatore_out = df_allocatore_out.alias(\"out\").join(df_info_addizionali,[df_allocatore_out.COD_EXP == df_info_addizionali.COD_EXP, df_allocatore_out.COD_CRM == df_info_addizionali.COD_CRM] \\\n",
    "                                            ,how = 'left').select(\"out.*\", df_info_addizionali.NOM_INFO_ADDIZIONALI, df_info_addizionali.COD_INFO_ADDIZIONALI)\n",
    "    elif CHIAVE_INFO_ADDIZIONALI == \"Controparte\":\n",
    "        df_allocatore_out = df_allocatore_out = df_allocatore_out.alias(\"out\").join(df_info_addizionali, on =\"COD_SNDG\",how = 'left') \\\n",
    "        .select(\"out.*\", df_info_addizionali.NOM_INFO_ADDIZIONALI, df_info_addizionali.COD_INFO_ADDIZIONALI)\n",
    "    else:\n",
    "        print(\"Parametro CHIAVE_INFO_ADDIZIONALI non corretto\")\n",
    "else:\n",
    "    print(\"tabella INFO_ADDIZIONALI non selezionata\")\n",
    "\n",
    "df_allocatore_out.head(1)"
   ]
  },
  {
   "cell_type": "markdown",
   "id": "7199ab83-c78f-48bb-a3ef-42ebdbc84362",
   "metadata": {},
   "source": [
    "##### 5.7 Creazione Vista Finale"
   ]
  },
  {
   "cell_type": "markdown",
   "id": "b3cab54f-428d-4c28-9f35-7707986c37d6",
   "metadata": {},
   "source": [
    "Al fine di non duplicare le informazioni all'interno del database si è deciso che le tabelle ALLOCATORE_ECL_OUT e ALLOCATORE_ECL_OUT_MIG conterranno esclusivamente i codici identificati più le metriche riallocate.\n",
    "Le altre informazioni presenti all'interno TE_BDRI0_ETL_MIP_BRM_RRM verranno comunque "
   ]
  },
  {
   "cell_type": "markdown",
   "id": "afa40d8f-f16d-4259-b2b8-2d3c3277cac7",
   "metadata": {},
   "source": [
    "### 6 CODICE"
   ]
  },
  {
   "cell_type": "markdown",
   "id": "de4b9e82-ea23-4afa-9ae0-6975f7707de0",
   "metadata": {},
   "source": [
    "Per soddisfare i necessari requisiti di modularità e di standard qualitativi del codice, questo viene riorganizzato nell'implementazione e \"incapsulato\" in specifiche funzioni che riflettono gli specifici passi del processo."
   ]
  },
  {
   "cell_type": "code",
   "execution_count": 13,
   "id": "91302a3f-2493-4066-8b87-0adc3a505108",
   "metadata": {},
   "outputs": [],
   "source": [
    "# recupero info preliminari (COD_ROW_ID_MIP, EAD_TOT_CLUSTER)\n",
    "\n",
    "def preprocessing_1(df_etl_mip_brm, df_join_rwa):\n",
    "    #aggancio campo COD_ROW_ID_MIP\n",
    "    df_etl_mip_brm = df_etl_mip_brm.alias(\"a\").join(df_join_rwa, [df_etl_mip_brm.COD_EXP == df_join_rwa.COD_EXP, df_etl_mip_brm.COD_CRM == df_join_rwa.COD_CRM], 'left')\\\n",
    "    .select(\"a.*\", df_join_rwa.COD_ROW_ID_MIP)\n",
    "    return df_etl_mip_brm\n",
    "    \n",
    "def preprocessing_2(df_etl_mip_brm,df_ecl_out,df_ecl_scarti):\n",
    "    #seleziono campo EAD ed accodo ead ECL_OUT ed ECL_SCARTI\n",
    "    df_ead_mip=df_ecl_out.select(\"COD_ROW_ID_MIP\",col(\"VAL_EAD_PIT_T0\").alias(\"VAL_EAD_TOT_CLUSTER\"))\n",
    "    df_ead_scarti=df_ecl_scarti.select(\"COD_ROW_ID_MIP\",col(\"VAL_EAD_PIT_T0\").alias(\"VAL_EAD_TOT_CLUSTER\"))\n",
    "    df_ead = df_ead_mip.union(df_ead_scarti)\n",
    "    #join tra etl_mip_brm e ecl_out, ecl_out prima della join seleziona i campi COD_ROW_ID_MIP e VAL_EAD_PIT_T0 (rinominato in VAL_EAD_TOT_CLUSTER)\n",
    "    df_etl_mip_brm = df_etl_mip_brm.alias(\"a\").join(broadcast(df_ead),\\\n",
    "                                         df_etl_mip_brm.COD_ROW_ID_MIP == df_ead.COD_ROW_ID_MIP, 'left')\\\n",
    "                                        .select(\"a.*\", df_ead.VAL_EAD_TOT_CLUSTER)\n",
    "    return df_etl_mip_brm"
   ]
  },
  {
   "cell_type": "code",
   "execution_count": 14,
   "id": "a8f7e64f-3cb3-4754-a255-bf293e65ffd7",
   "metadata": {},
   "outputs": [],
   "source": [
    "#ecl scarti_out\n",
    "\n",
    "def ecl_scarti_out(df_ecl_scarti,anni_proiez):\n",
    "    # selezione delle colonne effettivamente utilizzate\n",
    "    cols_sel = [\"VAL_ECL_1Y_T0\", \"COD_STAGING_T0_MIP\",\"VAL_ECL_LT_T0\",\"VAL_EAD_PIT_T0\",\\\n",
    "                \"VAL_PD_PIT_1Y\",\"VAL_PD_LT_T0\",\"VAL_LGD_PIT_T0\",\"VAL_ECL_FINAL_T0_MIP\"]\n",
    "    df_ecl_scarti_sel = df_ecl_scarti.select(\"COD_ROW_ID_MIP\",*cols_sel)\n",
    "    \n",
    "    #funzione per calcolare i campi dell'ecl out\n",
    "    #I campi SXS1 vengono popolati se COD_STAGING_T0_MIP = 1, i campi SXS2 vengono popolati se COD_STAGING_T0_MIP = 2\n",
    "    #inseriamo i campi in un dizionario per evitare duplicazioni di codice\n",
    "\n",
    "    def field_s1_s2(df,field_new, field_old, i, sy = None):\n",
    "        if sy is not None:\n",
    "            df = df.withColumn(f\"{field_new}{sy}_T{i}\",when(\n",
    "            col(\"COD_STAGING_T0_MIP\") == f\"{sy}\", col(f\"{field_old}\")).otherwise(0))\n",
    "        else:\n",
    "            df = df.withColumn(f\"{field_new}{i}\",col(f\"{field_old}\")) \n",
    "        return df\n",
    "\n",
    "    #campi S1 e S2\n",
    "    fields = {\n",
    "      \"VAL_ECL_1Y_G_SXS\": \"VAL_ECL_1Y_T0\",\n",
    "      \"VAL_ECL_LT_G_SXS\": \"VAL_ECL_LT_T0\",\n",
    "      \"VAL_EAD_PIT_G_SXS\": \"VAL_EAD_PIT_T0\",\n",
    "      \"VAL_PD_LT_G_SXS\": \"VAL_PD_LT_T0\",\n",
    "      \"VAL_PD_PIT_G_SXS\": \"VAL_PD_PIT_1Y\"\n",
    "\n",
    "    }\n",
    "\n",
    "    for t in range(anni_proiez+1):\n",
    "        for sy in range(1,3):\n",
    "            for f in fields:\n",
    "                df_ecl_scarti_sel = field_s1_s2(df_ecl_scarti_sel,f,fields[f],t,sy)\n",
    "\n",
    "\n",
    "    #campi che non dipendono dallo staging\n",
    "\n",
    "    fields = {\n",
    "        \"VAL_ECL_FINALE_G_T\": \"VAL_ECL_FINAL_T0_MIP\",\n",
    "        \"VAL_LGD_PIT_G_T\": \"VAL_LGD_PIT_T0\"\n",
    "    }\n",
    "\n",
    "    for t in range(anni_proiez+1):\n",
    "        for f in fields:\n",
    "            df_ecl_scarti_sel = field_s1_s2(df_ecl_scarti_sel,f,fields[f],t)\n",
    "        #campi S3, sempre uguali a 0 perchè portafoglio\n",
    "        df_ecl_scarti_sel = df_ecl_scarti_sel.withColumn(f\"VAL_EAD_PIT_G_SXS3_T{t}\",lit(0))\n",
    "        df_ecl_scarti_sel = df_ecl_scarti_sel.withColumn(f\"VAL_ECL_1Y_LT_G_SXS3_T{t}\",lit(0))\n",
    "        df_ecl_scarti_sel = df_ecl_scarti_sel.withColumn(f\"PRB_MIGR_G_SX_S3_T{t}\",lit(0))\n",
    "        #campo ECL_LT_EBA_SXS2\n",
    "        df_ecl_scarti_sel = df_ecl_scarti_sel.withColumn(f\"VAL_ECL_LT_EBA_G_SXS2_T{t}\",when(\n",
    "            col(\"COD_STAGING_T0_MIP\") == \"2\", col(f\"VAL_ECL_LT_T0\")).otherwise(0))\n",
    "        #campi PRB_MIGR\n",
    "        for sy in range(1,3):\n",
    "            df_ecl_scarti_sel = df_ecl_scarti_sel.withColumn(f\"PRB_MIGR_G_SX_S{sy}_T{t}\",when(\n",
    "                col(\"COD_STAGING_T0_MIP\") == f\"{sy}\", lit(1)).otherwise(0))\n",
    "\n",
    "    df_ecl_scarti_sel = df_ecl_scarti_sel.withColumn(\"CASO_STEP\",lit(\"ECL_SCARTI\"))      \n",
    "    df_ecl_scarti_out = df_ecl_scarti_sel.drop(*cols_sel)\n",
    "    \n",
    "    return df_ecl_scarti_out"
   ]
  },
  {
   "cell_type": "code",
   "execution_count": 21,
   "id": "38f9137c-31b9-444f-b463-3d1a0c85d4c7",
   "metadata": {},
   "outputs": [],
   "source": [
    "#ecl_scarti_out_mig\n",
    "def ecl_scarti_out_mig(df_ecl_scarti,anni_proiez):\n",
    "    # selezione delle colonne effettivamente utilizzate\n",
    "    cols_sel = [\"VAL_ECL_1Y_T0\", \"COD_STAGING_T0_MIP\",\"VAL_ECL_LT_T0\",\"VAL_EAD_PIT_T0\",\\\n",
    "                \"VAL_PD_PIT_1Y\",\"VAL_PD_LT_T0\",\"VAL_LGD_PIT_T0\",\"VAL_ECL_FINAL_T0_MIP\"]\n",
    "    df_ecl_scarti_sel = df_ecl_scarti.select(\"COD_ROW_ID_MIP\",*cols_sel)\n",
    "\n",
    "    fields = {\n",
    "      \"VAL_ECL_1Y_G\": [\"VAL_ECL_1Y_T0\",3,2],\n",
    "      \"VAL_ECL_LT_G\": [\"VAL_ECL_LT_T0\",3,2],\n",
    "      \"VAL_EAD_PIT_G\": [\"VAL_EAD_PIT_T0\",3,3],\n",
    "      \"VAL_PD_LT_G\": [\"VAL_PD_LT_T0\",2,3],\n",
    "      \"VAL_PD_PIT_G\": [\"VAL_PD_PIT_1Y\",2,3]\n",
    "    }\n",
    "\n",
    "\n",
    "    def field_s1_s2(df,field_new, field_old, i, sx,sy):\n",
    "        cond = (col(\"COD_STAGING_T0_MIP\") == f\"{sy}\") & (col(\"COD_STAGING_T0_MIP\") == f\"{sx}\" )\n",
    "        df = df.withColumn(f\"{field_new}_S{sx}S{sy}_T{i}\", when(cond, col(f\"{field_old}\")).otherwise(0))\n",
    "        return df\n",
    "\n",
    "    for t in range(anni_proiez+1):\n",
    "        for f in fields:\n",
    "            sx_f = fields[f][1]\n",
    "            sy_f = fields[f][2]\n",
    "            for sx in range(1,sx_f+1):\n",
    "                for sy in range(1,sy_f+1):\n",
    "                    df_ecl_scarti_sel = field_s1_s2(df_ecl_scarti_sel,f,fields[f][0],t,sx,sy)        \n",
    "\n",
    "            #campi VAL_ECL_1Y_LT_G\n",
    "            #sempre valorizzati a 0 perchè non ci sono default\n",
    "            for sx in range(1,4):\n",
    "                df_ecl_scarti_sel = df_ecl_scarti_sel.withColumn(f\"VAL_ECL_1Y_LT_G_S{sx}S3_T{t}\",lit(0))\n",
    "\n",
    "            #campi VAL_ECL_LT_EBA_G_S2S2_Tx valorizzati quando COD_STAGING_T0_MIP = 2\n",
    "            df_ecl_scarti_sel = df_ecl_scarti_sel.withColumn(f\"VAL_ECL_LT_EBA_G_S2S2_T{t}\", \n",
    "                                                             when(col(\"COD_STAGING_T0_MIP\") == \"2\", col(\"VAL_ECL_LT_T0\")).otherwise(0))\n",
    "\n",
    "            #campi PRB_MIGR, valorizzati a 1 quando sx=sy=COD_STAGING_MIP\n",
    "\n",
    "\n",
    "            for sx in range(1,4):\n",
    "                for sy in range(1,4):\n",
    "                    cond = (col(\"COD_STAGING_T0_MIP\") == f\"{sy}\") & (col(\"COD_STAGING_T0_MIP\") == f\"{sx}\" )\n",
    "                    df_ecl_scarti_sel = df_ecl_scarti_sel.withColumn(f\"PRB_MIGR_G_S{sx}S{sy}_T{t}\", when(cond, lit(1)).otherwise(0))\n",
    "\n",
    "            #campi VAL_PD VAL_LT S3 S3\n",
    "            df_ecl_scarti_sel = df_ecl_scarti_sel.withColumn(f\"VAL_PD_LT_G_S3S3_T{t}\", when(cond,col(\"VAL_PD_PIT_1Y\")).otherwise(0))\n",
    "            df_ecl_scarti_sel = df_ecl_scarti_sel.withColumn(f\"VAL_PD_PIT_G_S3S3_T{t}\", when(cond,col(\"VAL_PD_LT_T0\")).otherwise(0))\n",
    "\n",
    "    df_ecl_scarti_out_mig = df_ecl_scarti_sel.drop(*cols_sel)\n",
    "    return df_ecl_scarti_out_mig\n"
   ]
  },
  {
   "cell_type": "code",
   "execution_count": 22,
   "id": "7eb3d981-9a94-41fd-a686-620976c56c5c",
   "metadata": {},
   "outputs": [],
   "source": [
    "#ALLOCATORE ECL OUT\n",
    "\n",
    "def allocatore_ecl_out(df_etl_mip_brm,df_out,anni_proiez):\n",
    "\n",
    "    fields_importi = [\n",
    "        \"VAL_ECL_FINALE_G_T\",\n",
    "        \"VAL_ECL_1Y_G_SXS1_T\",\n",
    "        \"VAL_ECL_1Y_G_SXS2_T\",\n",
    "        \"VAL_ECL_LT_G_SXS1_T\",\n",
    "        \"VAL_ECL_LT_G_SXS2_T\",\n",
    "        \"VAL_ECL_LT_EBA_G_SxS2_T\",\n",
    "        \"VAL_EAD_PIT_G_SXS1_T\",\n",
    "        \"VAL_EAD_PIT_G_SXS2_T\",\n",
    "        \"VAL_EAD_PIT_G_SXS3_T\",\n",
    "        \"VAL_ECL_1Y_LT_G_SXS3_T\" \n",
    "    ]\n",
    "\n",
    "    fields_parametri = [\n",
    "        \"PRB_MIGR_G_SX_S1_T\",\n",
    "        \"PRB_MIGR_G_SX_S2_T\",\n",
    "        \"PRB_MIGR_G_SX_S3_T\",\n",
    "        \"VAL_PD_LT_G_SXS1_T\", \n",
    "        \"VAL_PD_LT_G_SXS2_T\",\n",
    "        \"VAL_PD_PIT_G_SXS1_T\",\n",
    "        \"VAL_PD_PIT_G_SXS2_T\",\n",
    "        \"VAL_LGD_PIT_G_T\",\n",
    "    ]\n",
    "    \n",
    "    df_allocatore_out = df_etl_mip_brm.alias(\"a\").join(df_out,on=\"COD_ROW_ID_MIP\",how=\"left\"). \\\n",
    "    select(\"a.COD_EXP\",\"a.COD_CRM\",\"a.COD_SNDG\",*[col(f\"{field}{i}\") for i in range(anni_proiez+1) for field in fields_parametri], \\\n",
    "    *[(col(f\"{field}{i}\") * col(\"IMP_EAD_PIT\")/col(\"VAL_EAD_TOT_CLUSTER\")).alias(f\"{field}{i}\") for i in range(anni_proiez+1) for field in fields_importi], col(\"CASO_STEP\"))\n",
    "    \n",
    "    return df_allocatore_out\n",
    "\n",
    "\n"
   ]
  },
  {
   "cell_type": "code",
   "execution_count": 23,
   "id": "c7b87b37-99e2-4da1-8f85-e39d31bb1a0a",
   "metadata": {},
   "outputs": [],
   "source": [
    "#ALLOCATORE_ECL_OUT_MIG\n",
    "\n",
    "def allocatore_ecl_out_mig(df_etl_mip_brm,df_out_mig,anni_proiez):\n",
    "    fields_importi = [\n",
    "    \"VAL_ECL_1Y_G_S1S1_T\",\n",
    "    \"VAL_ECL_1Y_G_S2S1_T\",\n",
    "    \"VAL_ECL_1Y_G_S1S2_T\",\n",
    "    \"VAL_ECL_1Y_G_S2S2_T\",\n",
    "    \"VAL_ECL_1Y_G_S3S1_T\",\n",
    "    \"VAL_ECL_1Y_G_S3S2_T\",\n",
    "    \"VAL_ECL_1Y_LT_G_S1S3_T\",\n",
    "    \"VAL_ECL_1Y_LT_G_S2S3_T\",\n",
    "    \"VAL_ECL_1Y_LT_G_S3S3_T\",\n",
    "    \"VAL_ECL_LT_G_S1S1_T\",\n",
    "    \"VAL_ECL_LT_G_S2S1_T\",\n",
    "    \"VAL_ECL_LT_G_S1S2_T\",\n",
    "    \"VAL_ECL_LT_G_S2S2_T\",\n",
    "    \"VAL_ECL_LT_G_S3S1_T\",\n",
    "    \"VAL_ECL_LT_G_S3S2_T\",\n",
    "    \"VAL_ECL_LT_EBA_G_S2S2_T\",\n",
    "    \"VAL_EAD_PIT_G_S1S1_T\",\n",
    "    \"VAL_EAD_PIT_G_S2S1_T\",\n",
    "    \"VAL_EAD_PIT_G_S1S2_T\",\n",
    "    \"VAL_EAD_PIT_G_S2S2_T\",\n",
    "    \"VAL_EAD_PIT_G_S1S3_T\",\n",
    "    \"VAL_EAD_PIT_G_S2S3_T\",\n",
    "    \"VAL_EAD_PIT_G_S3S1_T\",\n",
    "    \"VAL_EAD_PIT_G_S3S2_T\",\n",
    "    \"VAL_EAD_PIT_G_S3S3_T\"\n",
    "    ]\n",
    "\n",
    "    fields_parametri = [\n",
    "    \"PRB_MIGR_G_S1S1_T\",\n",
    "    \"PRB_MIGR_G_S2S1_T\",\n",
    "    \"PRB_MIGR_G_S3S1_T\",\n",
    "    \"PRB_MIGR_G_S1S2_T\",\n",
    "    \"PRB_MIGR_G_S2S2_T\",\n",
    "    \"PRB_MIGR_G_S3S2_T\",\n",
    "    \"PRB_MIGR_G_S1S3_T\",\n",
    "    \"PRB_MIGR_G_S2S3_T\",\n",
    "    \"PRB_MIGR_G_S3S3_T\",\n",
    "    \"VAL_PD_LT_G_S1S1_T\",\n",
    "    \"VAL_PD_LT_G_S2S1_T\",\n",
    "    \"VAL_PD_LT_G_S1S2_T\",\n",
    "    \"VAL_PD_LT_G_S2S2_T\",\n",
    "    \"VAL_PD_LT_G_S2S3_T\",\n",
    "    \"VAL_PD_LT_G_S1S3_T\",\n",
    "    \"VAL_PD_PIT_G_S1S1_T\",\n",
    "    \"VAL_PD_PIT_G_S2S1_T\",\n",
    "    \"VAL_PD_PIT_G_S1S2_T\",\n",
    "    \"VAL_PD_PIT_G_S2S2_T\",\n",
    "    \"VAL_PD_PIT_G_S1S3_T\",\n",
    "    \"VAL_PD_PIT_G_S2S3_T\"\n",
    "    ]\n",
    "    \n",
    "    df_allocatore_out_mig = df_etl_mip_brm.alias(\"c\").join(df_out_mig,on=\"COD_ROW_ID_MIP\",how=\"left\"). \\\n",
    "    select(\"c.COD_EXP,c.COD_CRM,c.COD_SNDG\",*[col(f\"{field}{i}\") for i in range(anni_proiez+1) for field in fields_parametri], \\\n",
    "    *[(col(f\"{field}{i}\") * col(\"IMP_EAD_PIT\")/col(\"VAL_EAD_TOT_CLUSTER\")).alias(f\"{field}{i}\") for i in range(anni_proiez+1) for field in fields_importi])\n",
    "    \n",
    "    return df_allocatore_out_mig\n",
    "    "
   ]
  },
  {
   "cell_type": "code",
   "execution_count": 24,
   "id": "d5232e57-8e6d-480d-8a86-932ecf23f76b",
   "metadata": {},
   "outputs": [],
   "source": [
    "def info_addizionali(df_allocatore_out,df_info_addizionali, CHIAVE_INFO_ADDIZIONALI):\n",
    "    if CHIAVE_INFO_ADDIZIONALI == \"Tranche\":\n",
    "        df_allocatore_out = df_allocatore_out.alias(\"out\").join(df_info_addizionali,[df_allocatore_out.COD_EXP == df_info_addizionali.COD_EXP, df_allocatore_out.COD_CRM == df_info_addizionali.COD_CRM] \\\n",
    "                                            ,how = 'left').select(\"out.*\", df_info_addizionali.NOM_INFO_ADDIZIONALI, df_info_addizionali.COD_INFO_ADDIZIONALI)\n",
    "    elif CHIAVE_INFO_ADDIZIONALI == \"Controparte\":\n",
    "        df_allocatore_out = df_allocatore_out = df_allocatore_out.alias(\"out\").join(df_info_addizionali, on =\"COD_SNDG\",how = 'left') \\\n",
    "        .select(\"out.*\", df_info_addizionali.NOM_INFO_ADDIZIONALI, df_info_addizionali.COD_INFO_ADDIZIONALI)\n",
    "    else:\n",
    "        print(\"Parametro CHIAVE_INFO_ADDIZIONALI non corretto\")\n",
    "        \n",
    "    return df_allocatore_out\n",
    "    "
   ]
  },
  {
   "cell_type": "code",
   "execution_count": 19,
   "id": "ce0bf726-00c7-4430-8f4c-a08bea1ab062",
   "metadata": {},
   "outputs": [
    {
     "name": "stderr",
     "output_type": "stream",
     "text": [
      "22/04/06 13:25:13 WARN org.apache.spark.sql.catalyst.util.package: Truncated the string representation of a plan since it was too large. This behavior can be adjusted by setting 'spark.sql.debug.maxToStringFields'.\n",
      "                                                                                \r"
     ]
    },
    {
     "data": {
      "text/plain": [
       "Row(DAT_RIF=datetime.date(2021, 9, 30), DAT_REPORT=datetime.date(2021, 9, 30), ID_VERSIONE=2, COD_PART_COL='P202109_V00002', COD_ABI='1025', COD_APPROACH='IRB', COD_APPROCCIO_FINALE='A-IRB', COD_AREA_RISCHIO_APPLIC='MEDIUM', COD_AREA_RISCHIO_ORIG='MEDIUM', COD_BU_RND='FAM', COD_BU_TDB='BDT', COD_CARTO_GARC=None, COD_CONFRONTO_DATE=None, COD_COUNTRY_EBA='ITALY', COD_COUNTRY_EBA_FINALE='ITALY', COD_CPTY_COUNTRY='IT', COD_CPTY_COUNTRY_FINALE='IT', COD_CPTY_COUNTRY_HQ='IT', COD_CPTY_COUNTRY_HQ_FINALE='IT', COD_CPTY_COUNTRY_HQ_GB='086', COD_CPTY_COUNTRY_HQ_GB_FINALE='086', COD_CRM='NOT_COVERED', COD_CRM_RWA=None, COD_DIVISA_ORIG='EUR', COD_DIVISA_ORIG_FINALE='EUR', COD_EBA_ASSET_CLASS='RETAIL_OTHER_SME', COD_ENTITY_COUNTRY='IT', COD_ENTITY_DIVISA='EUR', COD_EXP='EXAC0000000100000210', COD_EXP_RWA='EXAC0000000100000210', COD_FIN_BOOK='101', COD_FIN_BOOK_STG='101', COD_FT_EXP_PREPROC='PT440', COD_INDEXED_LTV_RANGE='.', FLG_INTERCOMPANY='0', COD_LGD_GRID_KEY_ECL_MIP='|R4||Other|IT-CT', COD_MACRO_PROD='FIN', COD_MACROAGGREGATO_APPLIC='FP', COD_MACROAGGREGATO_ECL='FP', COD_MACROAGGREGATO_ORIG='FP', COD_MATR_KEY_ID_APPLIC=None, COD_MATR_KEY_ID_ECL=None, COD_MATR_KEY_ID_ORIG=None, COD_MATR_MODEL_ID_APPLIC='SR001', COD_MATR_MODEL_ID_ECL='SR001', COD_MATR_MODEL_ID_ECL_REPORT='SR001', COD_MATR_MODEL_ID_ORIG='SR001', COD_MATR_RATING_GRADE_APPLIC='M2', COD_MATR_RATING_GRADE_ECL='M2', COD_MATR_RATING_GRADE_ORIG='M3', COD_NODO='1_1', COD_OPERATIVITA='CLIENTELA', COD_PART_COL_BRM='P202109SADDONECL01025', COD_PART_COL_ECL='P20210930MPADLCONSO', COD_PART_COL_INPUT_RRM='P20210903UG', COD_PART_COL_MIP='P202109PLADDONECL', COD_PART_COL_RWA='P20210930MSAIR01025', COD_PART_COL_PD_LT_ORIG='P202012AADDONECL', COD_PERIMETER_CP='P_MLC', COD_POCI='0', COD_PORTAFOGLIO_FINALE='017', COD_PRIORITY='2', COD_PROVENIENZA='I', COD_RATING_STRESS_APPLIC='M2', COD_RATING_STRESS_ECL='M2', COD_RATING_STRESS_ORIG='M3', COD_REG_PROD='509', COD_RESIDUAL_MAT_BUCKET='1', COD_SEGM_IRB='SR', COD_SEGM_PA='PTF9', COD_SNDG='0000000058925718', COD_SNDG_FINALE='0000000058925718', COD_SNDG_GRP=None, COD_SNDG_GRP_FINALE=None, COD_SOURCE_TYPE='ITALIA', COD_SOV_TRANSF=None, COD_STAGING_BRM='1', COD_STAGING_HERMIONE='1', COD_STAGING_MIP='1', COD_SUB_PORTAFOGLIO_FINALE='RETAIL_OTHER', COD_SUB_PTF_FINALE_OPT=None, COD_TIPO_CREDITO='CASSA', COD_TIPO_PROD='CA', DAT_INCEPTION=datetime.date(2021, 4, 26), DAT_MATURITY=datetime.date(2021, 10, 5), DAT_RIF_ECL=datetime.date(2021, 9, 30), DAT_RIF_MATRIX_ECL=datetime.date(2021, 6, 30), DAT_RIF_MATRIX_ORIG=datetime.date(2020, 12, 31), DES_CRM_SUBTYPE=None, DES_CRM_TYPE=None, DES_LABEL_NODO='CONFRONTO RELATIVO', DES_NOTE='0', FLG_BRM_SOURCE='L', FLG_CANCELLABLE='0', FLG_CLI_BANCHE='1', FLG_CREDIT_FUNZ='0', FLG_CRM_SUBSTITUTION='N', FLG_ELIM_STG='Y', FLG_FORZ='0', FLG_FUNDED=None, FLG_IFRS=None, FLG_IFRS_PL='Y', FLG_IN_DEFAULT_NEW_ECL='N', FLG_LCRE=None, FLG_LGD_PD_SUBSTITUTION='N', FLG_PERIMETER_SEC='N', FLG_PERIMETRO_IL_S3='1', FLG_PROIEZ='1', FLG_REAL_ESTATE_GUARANTEE='N', FLG_SEL_CR_REA='Y', FLG_SEL_CR_SCEN='Y', FLG_TRIGGER_POCI='0', IMP_ACCORDATO_IFRS9=4996.95, IMP_EAD_Y1=4996.95, IMP_EAD_EIR_Y1=None, IMP_EAD_EIR_Y2=0.0, IMP_EAD_EIR_Y3=0.0, IMP_EAD_EIR_Y4=0.0, IMP_EAD_EIR_Y5=0.0, IMP_EAD_EIR_Y6=0.0, IMP_EAD_EIR_Y7=0.0, IMP_EAD_EIR_Y8=0.0, IMP_EAD_EIR_Y9=0.0, IMP_EAD_EIR_Y10=0.0, IMP_EAD_EIR_Y11=0.0, IMP_EAD_EIR_Y12=0.0, IMP_EAD_EIR_Y13=0.0, IMP_EAD_EIR_Y14=0.0, IMP_EAD_EIR_Y15=0.0, IMP_EAD_EIR_Y16=0.0, IMP_EAD_EIR_Y17=0.0, IMP_EAD_EIR_Y18=0.0, IMP_EAD_EIR_Y19=0.0, IMP_EAD_EIR_Y20=0.0, IMP_EAD_EIR_Y21=0.0, IMP_EAD_EIR_Y22=0.0, IMP_EAD_EIR_Y23=0.0, IMP_EAD_EIR_Y24=0.0, IMP_EAD_EIR_Y25=0.0, IMP_EAD_EIR_Y26=0.0, IMP_EAD_EIR_Y27=0.0, IMP_EAD_EIR_Y28=0.0, IMP_EAD_EIR_Y29=0.0, IMP_EAD_EIR_Y30=0.0, IMP_EAD_EIR_Y31=0.0, IMP_EAD_EIR_Y32=0.0, IMP_EAD_EIR_Y33=0.0, IMP_EAD_EIR_Y34=0.0, IMP_EAD_EIR_Y35=0.0, IMP_EAD_EIR_Y36=0.0, IMP_EAD_EIR_Y37=0.0, IMP_EAD_EIR_Y38=0.0, IMP_EAD_EIR_Y39=0.0, IMP_EAD_EIR_Y40=0.0, IMP_EAD_EIR_Y41=0.0, IMP_EAD_EIR_Y42=0.0, IMP_EAD_EIR_Y43=0.0, IMP_EAD_EIR_Y44=0.0, IMP_EAD_EIR_Y45=0.0, IMP_EAD_EIR_Y46=0.0, IMP_EAD_EIR_Y47=0.0, IMP_EAD_EIR_Y48=0.0, IMP_EAD_EIR_Y49=0.0, IMP_EAD_EIR_Y50=0.0, IMP_EAD_EIR_Y0_M1=4996.95, IMP_EAD_EIR_Y0_M2=0.0, IMP_EAD_EIR_Y0_M3=0.0, IMP_EAD_EIR_Y0_M4=0.0, IMP_EAD_EIR_Y0_M5=0.0, IMP_EAD_EIR_Y0_M6=0.0, IMP_EAD_EIR_Y0_M7=0.0, IMP_EAD_EIR_Y0_M8=0.0, IMP_EAD_EIR_Y0_M9=0.0, IMP_EAD_EIR_Y0_M10=0.0, IMP_EAD_EIR_Y0_M11=0.0, IMP_EAD_EIR_Y0_M12=0.0, IMP_EAD_IFRS9=4996.95, IMP_EAD_PIT=4996.95, IMP_ECL_1Y=4.00678287718868, IMP_ECL_FINAL=4.00678287718868, IMP_ECL_LT=4.00678287718868, IMP_ESPOSIZIONE=4996.95, IMP_FUND_COLL_ALLOC_AVAL_AMT=None, IMP_FUNDED_COLL_NOMINAL_AMT=None, IMP_PROVISION_IFRS9=8.0, IMP_UTILIZZATO_IFRS9=4996.95, NOM_LGD_GRID_ECL_MIP='SRB0_ADVERSE', NOM_SCENARIO='ADDON', NUM_CLASSE_UNICA_RATING_APPLIC=13.0, NUM_CLASSE_UNICA_RATING_ORIG=14.0, NUM_IRIS_RANGE=None, NUM_TMR_IFRS9=20.0, NUM_TMR_TTC_ECL=0.0, NUM_TMR_Y1_ECL=20.0, NUM_TMR_Y2_ECL=0.0, NUM_TMR_Y3_ECL=0.0, PRB_PD_1Y_ORIG=0.049112, PRB_PD_LT_APPLIC=0.03133, PRB_PD_LT_ECL=0.03133, PRB_PD_LT_ORIG=0.049112, PRB_PD_PIT_ECL=0.03133, PRB_PD_PIT_IFRS9=3.133, PRB_SOGLIA_PD=3.3233097982, PRC_CCF_ECL=None, PRC_LGD_NOMINAL_IFRS9=0.25201392542361, PRC_LGD_NOMINAL_TTC_ECL=0.2426, PRC_LGD_NOMINAL_Y1_ECL=0.252, PRC_LGD_NOMINAL_Y2_ECL=0.2498, PRC_LGD_NOMINAL_Y3_ECL=0.2491, PRC_LGD_PIT_IFRS9=30.27, PRC_LTV=None, VAL_EFF_MATURITY_YEARS=1.0, VAL_EIR_FACTOR_ECL=0.9587727708533, VAL_MATR_YEAR_ORIG=2020.0, VAL_ORIGINAL_MATURITY_YEARS=1.0, VAL_RESIDUAL_MATURITY_YEARS=1.0, COD_MATR_VERS_ID_APPLIC=41.0, COD_ISIN=None, COD_TIT_INT=None, COD_LGD_GRID_KEY_ECL='000190', NOM_LGD_GRID_ECL='SRB0_ADVERSE', FLG_IN_DEFAULT='0', COD_KEY_ID_AGGR_ETL='|Y|00005400010481517', NOM_KEY_ID_AGGR_ETL=None, COD_ANNI_PERM_DE=1.0, COD_DEFAULT_TYPE='0', COD_LGD_GRID_KEY_NEWDEF_1=None, COD_LGD_GRID_KEY_NEWDEF_2='SU|AB|UN|150000', COD_LGD_GRID_KEY_NEWDEF_3='SU|AB|UN|150000|A', COD_LGD_GRID_NAME_NEWDEF='SRB', COD_RISCHIO='0', COD_STATO_AMMINISTRATIVO='BONIS', COD_STATO_RISCHIO=None, COD_VINTAGE_LEVEL=None, NOM_SNDG='BURBI ALESSANDRO', NOM_SNDG_GRP=None, NOM_SNDG_FINALE='BURBI ALESSANDRO', NOM_SNDG_GRP_FINALE=None, NUM_ANNO_PERMANENZA_DEF=None, COD_FIL_OPERAZ='68645', COD_NDG='0007188721732000', COD_OPERAZ='01.400010481517PT4400000000', COD_RAPP='00005400010481517', COD_UTENTE='SAS - U401075', TMS_AGGIORNAMENTO=datetime.datetime(2021, 11, 5, 20, 52, 2), COD_ATECO='02100', COD_MICROSETTORE=None, COD_ATECO_AGGR=None, COD_ATECO_FINALE='02100', COD_ATECO_FINALE_AGGR=None, COD_APPROCCIO_PRE_CRM=None, COD_EBA_ASSET_CLASS_PRE_CRM=None, IMP_LTV=None, COD_CPTY_CURRENCY_FINALE=None, COD_ROW_ID_MIP='00000000000000000000000001016375', VAL_EAD_TOT_CLUSTER=4996.95)"
      ]
     },
     "execution_count": 19,
     "metadata": {},
     "output_type": "execute_result"
    }
   ],
   "source": [
    "###execution\n",
    "start=time()\n",
    "#preprocessing\n",
    "df_etl_mip_brm = preprocessing_1(df_etl_mip_brm,df_join_rwa)\n",
    "df_etl_mip_brm = preprocessing_2(df_etl_mip_brm,df_ecl_out,df_ecl_scarti)\n",
    "\n",
    "df_etl_mip_brm.count()\n",
    "df_etl_mip_brm.head()"
   ]
  },
  {
   "cell_type": "code",
   "execution_count": 20,
   "id": "71b60081-b1c0-4e01-8e00-2eaef8849101",
   "metadata": {},
   "outputs": [
    {
     "data": {
      "text/plain": [
       "1752989"
      ]
     },
     "execution_count": 20,
     "metadata": {},
     "output_type": "execute_result"
    }
   ],
   "source": [
    "df_ecl_scarti_out = ecl_scarti_out(df_ecl_scarti,anni_proiez)\n",
    "df_ecl_scarti_out_mig = ecl_scarti_out_mig(df_ecl_scarti,anni_proiez)\n",
    "\n",
    "#accodamento tabelle ecl_out scarti_out\n",
    "cols_out = df_ecl_scarti_out.columns\n",
    "df_ecl_out_sel = df_ecl_out.select(cols_out)\n",
    "df_out = df_ecl_out_sel.union(df_ecl_scarti_out)\n",
    "\n",
    "#accodamento tabelle ecl_out_mig scarti_out_mig\n",
    "cols_out_mig = df_ecl_scarti_out_mig.columns\n",
    "df_ecl_out_mig_sel = df_ecl_out_mig.select(cols_out_mig)\n",
    "df_out_mig = df_ecl_out_mig_sel.union(df_ecl_scarti_out_mig)\n",
    "\n",
    "df_out.count()\n",
    "df_out_mig.count()"
   ]
  },
  {
   "cell_type": "code",
   "execution_count": null,
   "id": "4d6460da-df14-4203-918b-de2ba6664cd0",
   "metadata": {},
   "outputs": [],
   "source": [
    "#allocazione\n",
    "df_allocatore_out = allocatore_ecl_out(df_etl_mip_brm,df_out,anni_proiez)\n",
    "df_allocatore_out_mig = allocatore_ecl_out_mig(df_etl_mip_brm,df_out_mig,anni_proiez)\n",
    "\n",
    "#info_addizionali\n",
    "if INFO_ADDIZIONALI == 1:\n",
    "    df_allocatore_out = info_addizionali(df_allocatore_out,df_info_addizionali,CHIAVE_INFO_ADDIZIONALI)\n",
    "\n",
    "    \n",
    "print(df_allocatore_out.count())\n",
    "print(df_allocatore_out.head())\n",
    "\n",
    "end=time()\n",
    "elapsed = end-start\n",
    "print(f\"{elapsed} seconds\")\n",
    "elapsed_minutes = elapsed/60\n",
    "print(f\"{elapsed_minutes} minutes\")"
   ]
  },
  {
   "cell_type": "code",
   "execution_count": null,
   "id": "19f93c08-c666-44ed-a8a4-624f0cfe79f5",
   "metadata": {},
   "outputs": [],
   "source": []
  },
  {
   "cell_type": "code",
   "execution_count": 28,
   "id": "2be54ef1-dd8f-4a12-aa61-bba7a26ecd3b",
   "metadata": {},
   "outputs": [
    {
     "name": "stdout",
     "output_type": "stream",
     "text": [
      "select * from `prj-isp-ddl00-appl-svil-001.ds_feeding_proiezione_credito.TE_BDRI0_ETL_MIP_BRM_RRM` where ID_VERSIONE = 2\n"
     ]
    },
    {
     "data": {
      "text/plain": [
       "11450960"
      ]
     },
     "execution_count": 28,
     "metadata": {},
     "output_type": "execute_result"
    }
   ],
   "source": [
    "#download tabella etl_mip_brm\n",
    "q = f\"select * from `{project_id}.{dataset_feeding}.{etl_mip_brm}` where ID_VERSIONE = {etl_mip_brm_version}\"\n",
    "print(q)\n",
    "df_etl_mip_brm = spark.read.format(\"bigquery\").load(q)\n",
    "df_etl_mip_brm.count()"
   ]
  },
  {
   "cell_type": "code",
   "execution_count": null,
   "id": "cc52fa47-91cf-43f6-a3a2-fc8c91ce5c26",
   "metadata": {},
   "outputs": [],
   "source": []
  }
 ],
 "metadata": {
  "kernelspec": {
   "display_name": "Python 3",
   "language": "python",
   "name": "python3"
  },
  "language_info": {
   "codemirror_mode": {
    "name": "ipython",
    "version": 3
   },
   "file_extension": ".py",
   "mimetype": "text/x-python",
   "name": "python",
   "nbconvert_exporter": "python",
   "pygments_lexer": "ipython3",
   "version": "3.8.12"
  }
 },
 "nbformat": 4,
 "nbformat_minor": 5
}
